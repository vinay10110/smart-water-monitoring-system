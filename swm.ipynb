{
  "cells": [
    {
      "cell_type": "code",
      "execution_count": 6,
      "metadata": {
        "id": "uDnCayZf-6AJ"
      },
      "outputs": [],
      "source": [
        "import pandas as pd\n",
        "import numpy as np\n",
        "from sklearn.impute import SimpleImputer, KNNImputer\n",
        "from sklearn.preprocessing import LabelEncoder, StandardScaler\n",
        "from sklearn.model_selection import train_test_split\n",
        "from sklearn.ensemble import IsolationForest\n",
        "from pycaret.regression import *\n",
        "from sklearn.metrics import mean_squared_error\n",
        "from sklearn import metrics\n",
        "from sklearn.preprocessing import LabelEncoder\n",
        "import re"
      ]
    },
    {
      "cell_type": "code",
      "execution_count": 7,
      "metadata": {
        "id": "DV-mZmahHqYB"
      },
      "outputs": [],
      "source": [
        "data=pd.read_csv(r'Z:\\projects\\smart water system\\dataset\\train.csv')"
      ]
    },
    {
      "cell_type": "markdown",
      "metadata": {
        "id": "Jb7iSzlsWvSX"
      },
      "source": []
    },
    {
      "cell_type": "code",
      "execution_count": 8,
      "metadata": {
        "colab": {
          "base_uri": "https://localhost:8080/",
          "height": 617
        },
        "id": "kyP8Ey0kHt0Z",
        "outputId": "5494ec71-1298-4d8e-d3c7-89e9ed6295ed"
      },
      "outputs": [
        {
          "data": {
            "text/html": [
              "<div>\n",
              "<style scoped>\n",
              "    .dataframe tbody tr th:only-of-type {\n",
              "        vertical-align: middle;\n",
              "    }\n",
              "\n",
              "    .dataframe tbody tr th {\n",
              "        vertical-align: top;\n",
              "    }\n",
              "\n",
              "    .dataframe thead th {\n",
              "        text-align: right;\n",
              "    }\n",
              "</style>\n",
              "<table border=\"1\" class=\"dataframe\">\n",
              "  <thead>\n",
              "    <tr style=\"text-align: right;\">\n",
              "      <th></th>\n",
              "      <th>Timestamp</th>\n",
              "      <th>Residents</th>\n",
              "      <th>Apartment_Type</th>\n",
              "      <th>Temperature</th>\n",
              "      <th>Humidity</th>\n",
              "      <th>Water_Price</th>\n",
              "      <th>Period_Consumption_Index</th>\n",
              "      <th>Income_Level</th>\n",
              "      <th>Guests</th>\n",
              "      <th>Amenities</th>\n",
              "      <th>Appliance_Usage</th>\n",
              "      <th>Water_Consumption</th>\n",
              "    </tr>\n",
              "  </thead>\n",
              "  <tbody>\n",
              "    <tr>\n",
              "      <th>0</th>\n",
              "      <td>01/01/2002 00</td>\n",
              "      <td>1</td>\n",
              "      <td>Studio</td>\n",
              "      <td>15.31</td>\n",
              "      <td>46.61</td>\n",
              "      <td>1.06</td>\n",
              "      <td>0.970000</td>\n",
              "      <td>Low</td>\n",
              "      <td>0</td>\n",
              "      <td>Swimming Pool</td>\n",
              "      <td>0.0</td>\n",
              "      <td>64.85</td>\n",
              "    </tr>\n",
              "    <tr>\n",
              "      <th>1</th>\n",
              "      <td>01/01/2002 08</td>\n",
              "      <td>4</td>\n",
              "      <td>NaN</td>\n",
              "      <td>21.01</td>\n",
              "      <td>66.11</td>\n",
              "      <td>2.98</td>\n",
              "      <td>0.910000</td>\n",
              "      <td>Upper Middle</td>\n",
              "      <td>1</td>\n",
              "      <td>Swimming Pool</td>\n",
              "      <td>1.0</td>\n",
              "      <td>192.50</td>\n",
              "    </tr>\n",
              "    <tr>\n",
              "      <th>2</th>\n",
              "      <td>01/01/2002 16</td>\n",
              "      <td>2</td>\n",
              "      <td>Cottage</td>\n",
              "      <td>12.86</td>\n",
              "      <td>60.86</td>\n",
              "      <td>1.44</td>\n",
              "      <td>1.430000</td>\n",
              "      <td>Middle</td>\n",
              "      <td>0</td>\n",
              "      <td>NaN</td>\n",
              "      <td>1.0</td>\n",
              "      <td>116.62</td>\n",
              "    </tr>\n",
              "    <tr>\n",
              "      <th>3</th>\n",
              "      <td>02/01/2002 00</td>\n",
              "      <td>2</td>\n",
              "      <td>1BHK</td>\n",
              "      <td>20.16</td>\n",
              "      <td>50.58</td>\n",
              "      <td>1.48</td>\n",
              "      <td>0.910000</td>\n",
              "      <td>Middle</td>\n",
              "      <td>-1</td>\n",
              "      <td>Garden</td>\n",
              "      <td>0.0</td>\n",
              "      <td>76.96</td>\n",
              "    </tr>\n",
              "    <tr>\n",
              "      <th>4</th>\n",
              "      <td>02/01/2002 08</td>\n",
              "      <td>2</td>\n",
              "      <td>Cottage</td>\n",
              "      <td>16.23</td>\n",
              "      <td>52.25</td>\n",
              "      <td>1.14</td>\n",
              "      <td>1.110000</td>\n",
              "      <td>Middle</td>\n",
              "      <td>0</td>\n",
              "      <td>Fountain</td>\n",
              "      <td>0.0</td>\n",
              "      <td>104.70</td>\n",
              "    </tr>\n",
              "    <tr>\n",
              "      <th>...</th>\n",
              "      <td>...</td>\n",
              "      <td>...</td>\n",
              "      <td>...</td>\n",
              "      <td>...</td>\n",
              "      <td>...</td>\n",
              "      <td>...</td>\n",
              "      <td>...</td>\n",
              "      <td>...</td>\n",
              "      <td>...</td>\n",
              "      <td>...</td>\n",
              "      <td>...</td>\n",
              "      <td>...</td>\n",
              "    </tr>\n",
              "    <tr>\n",
              "      <th>13995</th>\n",
              "      <td>10/10/2014 00</td>\n",
              "      <td>2</td>\n",
              "      <td>1BHK</td>\n",
              "      <td>25.61</td>\n",
              "      <td>61.5</td>\n",
              "      <td>1.70</td>\n",
              "      <td>0.940000</td>\n",
              "      <td>Low</td>\n",
              "      <td>0</td>\n",
              "      <td>NaN</td>\n",
              "      <td>0.0</td>\n",
              "      <td>78.59</td>\n",
              "    </tr>\n",
              "    <tr>\n",
              "      <th>13996</th>\n",
              "      <td>10/10/2014 08</td>\n",
              "      <td>5</td>\n",
              "      <td>2BHK</td>\n",
              "      <td>13.27</td>\n",
              "      <td>52.58</td>\n",
              "      <td>1.88</td>\n",
              "      <td>1.030000</td>\n",
              "      <td>Upper Middle</td>\n",
              "      <td>0</td>\n",
              "      <td>Garden</td>\n",
              "      <td>1.0</td>\n",
              "      <td>185.50</td>\n",
              "    </tr>\n",
              "    <tr>\n",
              "      <th>13997</th>\n",
              "      <td>10/10/2014 16</td>\n",
              "      <td>4</td>\n",
              "      <td>2BHK</td>\n",
              "      <td>NaN</td>\n",
              "      <td>46.93</td>\n",
              "      <td>1.22</td>\n",
              "      <td>1.100000</td>\n",
              "      <td>Middle</td>\n",
              "      <td>0</td>\n",
              "      <td>NaN</td>\n",
              "      <td>1.0</td>\n",
              "      <td>180.28</td>\n",
              "    </tr>\n",
              "    <tr>\n",
              "      <th>13998</th>\n",
              "      <td>11/10/2014 00</td>\n",
              "      <td>4</td>\n",
              "      <td>3BHK</td>\n",
              "      <td>11.62</td>\n",
              "      <td>64.48</td>\n",
              "      <td>2.86</td>\n",
              "      <td>1.120000</td>\n",
              "      <td>Upper Middle</td>\n",
              "      <td>1</td>\n",
              "      <td>Swimming Pool</td>\n",
              "      <td>0.0</td>\n",
              "      <td>212.19</td>\n",
              "    </tr>\n",
              "    <tr>\n",
              "      <th>13999</th>\n",
              "      <td>11/10/2014 08</td>\n",
              "      <td>4</td>\n",
              "      <td>2BHK</td>\n",
              "      <td>23.78</td>\n",
              "      <td>44.88</td>\n",
              "      <td>1.26</td>\n",
              "      <td>2.133695</td>\n",
              "      <td>c&amp;8%1</td>\n",
              "      <td>1</td>\n",
              "      <td>Jacuzzi</td>\n",
              "      <td>0.0</td>\n",
              "      <td>303.59</td>\n",
              "    </tr>\n",
              "  </tbody>\n",
              "</table>\n",
              "<p>14000 rows × 12 columns</p>\n",
              "</div>"
            ],
            "text/plain": [
              "           Timestamp  Residents Apartment_Type  Temperature Humidity  \\\n",
              "0      01/01/2002 00          1         Studio        15.31    46.61   \n",
              "1      01/01/2002 08          4            NaN        21.01    66.11   \n",
              "2      01/01/2002 16          2        Cottage        12.86    60.86   \n",
              "3      02/01/2002 00          2           1BHK        20.16    50.58   \n",
              "4      02/01/2002 08          2        Cottage        16.23    52.25   \n",
              "...              ...        ...            ...          ...      ...   \n",
              "13995  10/10/2014 00          2           1BHK        25.61     61.5   \n",
              "13996  10/10/2014 08          5           2BHK        13.27    52.58   \n",
              "13997  10/10/2014 16          4           2BHK          NaN    46.93   \n",
              "13998  11/10/2014 00          4           3BHK        11.62    64.48   \n",
              "13999  11/10/2014 08          4           2BHK        23.78    44.88   \n",
              "\n",
              "       Water_Price  Period_Consumption_Index  Income_Level  Guests  \\\n",
              "0             1.06                  0.970000           Low       0   \n",
              "1             2.98                  0.910000  Upper Middle       1   \n",
              "2             1.44                  1.430000        Middle       0   \n",
              "3             1.48                  0.910000        Middle      -1   \n",
              "4             1.14                  1.110000        Middle       0   \n",
              "...            ...                       ...           ...     ...   \n",
              "13995         1.70                  0.940000           Low       0   \n",
              "13996         1.88                  1.030000  Upper Middle       0   \n",
              "13997         1.22                  1.100000        Middle       0   \n",
              "13998         2.86                  1.120000  Upper Middle       1   \n",
              "13999         1.26                  2.133695         c&8%1       1   \n",
              "\n",
              "           Amenities  Appliance_Usage  Water_Consumption  \n",
              "0      Swimming Pool              0.0              64.85  \n",
              "1      Swimming Pool              1.0             192.50  \n",
              "2                NaN              1.0             116.62  \n",
              "3             Garden              0.0              76.96  \n",
              "4           Fountain              0.0             104.70  \n",
              "...              ...              ...                ...  \n",
              "13995            NaN              0.0              78.59  \n",
              "13996         Garden              1.0             185.50  \n",
              "13997            NaN              1.0             180.28  \n",
              "13998  Swimming Pool              0.0             212.19  \n",
              "13999        Jacuzzi              0.0             303.59  \n",
              "\n",
              "[14000 rows x 12 columns]"
            ]
          },
          "execution_count": 8,
          "metadata": {},
          "output_type": "execute_result"
        }
      ],
      "source": [
        "data"
      ]
    },
    {
      "cell_type": "code",
      "execution_count": 9,
      "metadata": {
        "colab": {
          "base_uri": "https://localhost:8080/",
          "height": 460
        },
        "id": "DnWD4Dy7HvLb",
        "outputId": "9416670a-71f9-421e-9150-ac3787b209c7"
      },
      "outputs": [
        {
          "data": {
            "text/plain": [
              "Timestamp                      0\n",
              "Residents                      0\n",
              "Apartment_Type               426\n",
              "Temperature                  441\n",
              "Humidity                       0\n",
              "Water_Price                    0\n",
              "Period_Consumption_Index       0\n",
              "Income_Level                 426\n",
              "Guests                         0\n",
              "Amenities                   5997\n",
              "Appliance_Usage              415\n",
              "Water_Consumption              0\n",
              "dtype: int64"
            ]
          },
          "execution_count": 9,
          "metadata": {},
          "output_type": "execute_result"
        }
      ],
      "source": [
        "data.isna().sum()"
      ]
    },
    {
      "cell_type": "code",
      "execution_count": 10,
      "metadata": {
        "colab": {
          "base_uri": "https://localhost:8080/"
        },
        "id": "C-fG5fk_HxKs",
        "outputId": "3d34f316-ba9c-4589-b704-f1720efaa034"
      },
      "outputs": [
        {
          "data": {
            "text/plain": [
              "array(['Studio', nan, 'Cottage', '1BHK', '2BHK', 'Bungalow', '3BHK',\n",
              "       'Detached'], dtype=object)"
            ]
          },
          "execution_count": 10,
          "metadata": {},
          "output_type": "execute_result"
        }
      ],
      "source": [
        "data['Apartment_Type'].unique()"
      ]
    },
    {
      "cell_type": "code",
      "execution_count": 11,
      "metadata": {
        "id": "94i_YEq1H2zY"
      },
      "outputs": [],
      "source": [
        "data['Apartment_Type'] = data['Apartment_Type'].fillna('Missing')"
      ]
    },
    {
      "cell_type": "code",
      "execution_count": 12,
      "metadata": {
        "colab": {
          "base_uri": "https://localhost:8080/",
          "height": 460
        },
        "id": "nqxTeDMmIdoh",
        "outputId": "8e50cc96-fc8a-4e34-9631-af494de7bcfa"
      },
      "outputs": [
        {
          "data": {
            "text/plain": [
              "Timestamp                      0\n",
              "Residents                      0\n",
              "Apartment_Type                 0\n",
              "Temperature                  441\n",
              "Humidity                       0\n",
              "Water_Price                    0\n",
              "Period_Consumption_Index       0\n",
              "Income_Level                 426\n",
              "Guests                         0\n",
              "Amenities                   5997\n",
              "Appliance_Usage              415\n",
              "Water_Consumption              0\n",
              "dtype: int64"
            ]
          },
          "execution_count": 12,
          "metadata": {},
          "output_type": "execute_result"
        }
      ],
      "source": [
        "data.isna().sum()"
      ]
    },
    {
      "cell_type": "code",
      "execution_count": 13,
      "metadata": {
        "colab": {
          "base_uri": "https://localhost:8080/"
        },
        "id": "gcexmcqSI4l8",
        "outputId": "7e3cdefd-7602-4d70-d3dd-76eee5a3f464"
      },
      "outputs": [
        {
          "data": {
            "text/plain": [
              "array(['Swimming Pool', nan, 'Garden', 'Fountain', 'Jacuzzi'],\n",
              "      dtype=object)"
            ]
          },
          "execution_count": 13,
          "metadata": {},
          "output_type": "execute_result"
        }
      ],
      "source": [
        "data['Amenities'].unique()"
      ]
    },
    {
      "cell_type": "code",
      "execution_count": 14,
      "metadata": {
        "id": "tVXvFj0UJAbH"
      },
      "outputs": [],
      "source": [
        "data['Amenities'] = data['Amenities'].fillna('Missing')"
      ]
    },
    {
      "cell_type": "code",
      "execution_count": 15,
      "metadata": {
        "colab": {
          "base_uri": "https://localhost:8080/",
          "height": 460
        },
        "id": "72qmMypLJGI3",
        "outputId": "f9d37a7a-bf09-4ebe-faa0-73fe454281f8"
      },
      "outputs": [
        {
          "data": {
            "text/plain": [
              "Timestamp                     0\n",
              "Residents                     0\n",
              "Apartment_Type                0\n",
              "Temperature                 441\n",
              "Humidity                      0\n",
              "Water_Price                   0\n",
              "Period_Consumption_Index      0\n",
              "Income_Level                426\n",
              "Guests                        0\n",
              "Amenities                     0\n",
              "Appliance_Usage             415\n",
              "Water_Consumption             0\n",
              "dtype: int64"
            ]
          },
          "execution_count": 15,
          "metadata": {},
          "output_type": "execute_result"
        }
      ],
      "source": [
        "data.isna().sum()"
      ]
    },
    {
      "cell_type": "code",
      "execution_count": 16,
      "metadata": {
        "colab": {
          "base_uri": "https://localhost:8080/",
          "height": 460
        },
        "id": "UrH0nF6OKv34",
        "outputId": "1281c41f-2b62-41ac-e8ec-8d48224b5c4a"
      },
      "outputs": [
        {
          "data": {
            "text/plain": [
              "Timestamp                    object\n",
              "Residents                     int64\n",
              "Apartment_Type               object\n",
              "Temperature                 float64\n",
              "Humidity                     object\n",
              "Water_Price                 float64\n",
              "Period_Consumption_Index    float64\n",
              "Income_Level                 object\n",
              "Guests                        int64\n",
              "Amenities                    object\n",
              "Appliance_Usage             float64\n",
              "Water_Consumption           float64\n",
              "dtype: object"
            ]
          },
          "execution_count": 16,
          "metadata": {},
          "output_type": "execute_result"
        }
      ],
      "source": [
        "data.dtypes"
      ]
    },
    {
      "cell_type": "code",
      "execution_count": 17,
      "metadata": {
        "colab": {
          "base_uri": "https://localhost:8080/"
        },
        "id": "nSnzztWPL1_B",
        "outputId": "c5c8c22f-596c-4909-c01f-f0ce1ef51cdc"
      },
      "outputs": [
        {
          "data": {
            "text/plain": [
              "14000"
            ]
          },
          "execution_count": 17,
          "metadata": {},
          "output_type": "execute_result"
        }
      ],
      "source": [
        "data['Humidity'].value_counts().sum()"
      ]
    },
    {
      "cell_type": "code",
      "execution_count": 18,
      "metadata": {
        "colab": {
          "base_uri": "https://localhost:8080/"
        },
        "id": "VB8R5UeIKzUi",
        "outputId": "9f9e8663-f139-4f4f-c720-c8244703de26"
      },
      "outputs": [
        {
          "data": {
            "text/plain": [
              "array(['46.61', '66.11', '60.86', ..., '67.75', '81.81', '64.48'],\n",
              "      dtype=object)"
            ]
          },
          "execution_count": 18,
          "metadata": {},
          "output_type": "execute_result"
        }
      ],
      "source": [
        "data['Humidity'].unique()"
      ]
    },
    {
      "cell_type": "code",
      "execution_count": 19,
      "metadata": {
        "id": "Kuhi1UOwLnJ_"
      },
      "outputs": [],
      "source": [
        "valid_categories = ['Low', 'Middle', 'Upper Middle', 'Rich']\n",
        "\n",
        "# 2. Replace unusual values with 'Unknown'\n",
        "data['Income_Level'] = data['Income_Level'].apply(lambda x: x if x in valid_categories else 'Unknown')\n",
        "\n",
        "# 3. Handle missing values (replace with 'Unknown' in this example)\n",
        "data['Income_Level'] = data['Income_Level'].fillna('Missing')"
      ]
    },
    {
      "cell_type": "code",
      "execution_count": 20,
      "metadata": {
        "colab": {
          "base_uri": "https://localhost:8080/"
        },
        "id": "oFGbcZb5K8vh",
        "outputId": "71490677-f0cf-4032-f3ca-42ddfb9220d8"
      },
      "outputs": [
        {
          "data": {
            "text/plain": [
              "array(['Low', 'Upper Middle', 'Middle', 'Unknown', 'Rich'], dtype=object)"
            ]
          },
          "execution_count": 20,
          "metadata": {},
          "output_type": "execute_result"
        }
      ],
      "source": [
        "data['Income_Level'].unique()"
      ]
    },
    {
      "cell_type": "code",
      "execution_count": 21,
      "metadata": {
        "colab": {
          "base_uri": "https://localhost:8080/"
        },
        "id": "SnkHb3XFJIOo",
        "outputId": "5cd820f9-2ee8-4fd4-bf16-206720f16659"
      },
      "outputs": [
        {
          "data": {
            "text/plain": [
              "array([ 0.,  1., nan])"
            ]
          },
          "execution_count": 21,
          "metadata": {},
          "output_type": "execute_result"
        }
      ],
      "source": [
        "data['Appliance_Usage'].unique()"
      ]
    },
    {
      "cell_type": "code",
      "execution_count": 22,
      "metadata": {
        "colab": {
          "base_uri": "https://localhost:8080/"
        },
        "id": "ayA-V6djJNZL",
        "outputId": "8bbbc8b7-278f-4715-fa7e-a314be39a599"
      },
      "outputs": [
        {
          "data": {
            "text/plain": [
              "dtype('float64')"
            ]
          },
          "execution_count": 22,
          "metadata": {},
          "output_type": "execute_result"
        }
      ],
      "source": [
        "data['Appliance_Usage'].dtype"
      ]
    },
    {
      "cell_type": "code",
      "execution_count": 23,
      "metadata": {
        "id": "w4NIBO9xNvd-"
      },
      "outputs": [],
      "source": [
        "def convert_to_float_or_nan(value):\n",
        "    \"\"\"Converts a value to float if it's a numerical string,\n",
        "    otherwise returns NaN.\"\"\"\n",
        "    try:\n",
        "        # Check if the value matches a numerical pattern\n",
        "        if re.fullmatch(r'\\d+(\\.\\d+)?', value):\n",
        "            return float(value)\n",
        "        else:\n",
        "            return np.nan  # Non-numerical, replace with NaN\n",
        "    except (ValueError, TypeError):\n",
        "        return np.nan  # Handle errors (e.g., if value is None)\n",
        "\n",
        "# Apply the function to the 'Humidity' column\n",
        "data['Humidity'] = data['Humidity'].apply(convert_to_float_or_nan)"
      ]
    },
    {
      "cell_type": "code",
      "execution_count": 24,
      "metadata": {
        "colab": {
          "base_uri": "https://localhost:8080/"
        },
        "id": "Pjq39NO1NyZI",
        "outputId": "509eef3f-0733-4153-e745-4e8de0a7859f"
      },
      "outputs": [
        {
          "data": {
            "text/plain": [
              "397"
            ]
          },
          "execution_count": 24,
          "metadata": {},
          "output_type": "execute_result"
        }
      ],
      "source": [
        "data[\"Humidity\"].isna().sum()"
      ]
    },
    {
      "cell_type": "code",
      "execution_count": 25,
      "metadata": {
        "id": "oTtFO2bhKLCq"
      },
      "outputs": [],
      "source": [
        "\n",
        "\n",
        "# Create a LabelEncoder object\n",
        "encoder = LabelEncoder()\n",
        "\n",
        "# Select the categorical columns you want to encode\n",
        "categorical_columns = ['Apartment_Type', 'Amenities']  # Replace with your column names\n",
        "\n",
        "# Loop through the columns and apply label encoding\n",
        "for column in categorical_columns:\n",
        "    data[column] = encoder.fit_transform(data[column])"
      ]
    },
    {
      "cell_type": "code",
      "execution_count": 26,
      "metadata": {
        "id": "JKXUrhXJND3X"
      },
      "outputs": [],
      "source": [
        "data['Income_Level']=encoder.fit_transform(data['Income_Level'])"
      ]
    },
    {
      "cell_type": "code",
      "execution_count": 27,
      "metadata": {
        "id": "Cbv4zmCEMk4Q"
      },
      "outputs": [],
      "source": [
        "data=data.drop('Timestamp',axis=1)"
      ]
    },
    {
      "cell_type": "code",
      "execution_count": 28,
      "metadata": {
        "colab": {
          "base_uri": "https://localhost:8080/"
        },
        "id": "c8tHvYJQOmPo",
        "outputId": "d869dc42-7115-49e3-fd29-47160e0739bc"
      },
      "outputs": [
        {
          "data": {
            "text/plain": [
              "Index(['Residents', 'Apartment_Type', 'Temperature', 'Humidity', 'Water_Price',\n",
              "       'Period_Consumption_Index', 'Income_Level', 'Guests', 'Amenities',\n",
              "       'Appliance_Usage', 'Water_Consumption'],\n",
              "      dtype='object')"
            ]
          },
          "execution_count": 28,
          "metadata": {},
          "output_type": "execute_result"
        }
      ],
      "source": [
        "data.columns"
      ]
    },
    {
      "cell_type": "code",
      "execution_count": 29,
      "metadata": {
        "id": "4V7ngGwxJSYP"
      },
      "outputs": [],
      "source": [
        "from sklearn.ensemble import RandomForestRegressor\n",
        "from sklearn.model_selection import train_test_split\n",
        "X=data.drop('Water_Consumption',axis=1)\n",
        "y=data['Water_Consumption']\n",
        "X_train, X_test, y_train, y_test = train_test_split(X, y, test_size=0.2, random_state=42)"
      ]
    },
    {
      "cell_type": "code",
      "execution_count": 30,
      "metadata": {
        "colab": {
          "base_uri": "https://localhost:8080/"
        },
        "id": "gT9M9KnUOsqe",
        "outputId": "7d419d2e-da0d-4e82-87f0-c08e1e4dc5a1"
      },
      "outputs": [
        {
          "name": "stdout",
          "output_type": "stream",
          "text": [
            "Mean Squared Error: 381.2471861916464\n"
          ]
        }
      ],
      "source": [
        "regressor = RandomForestRegressor(n_estimators=100, random_state=42)  # Adjust parameters as needed\n",
        "regressor.fit(X_train, y_train)\n",
        "y_pred = regressor.predict(X_test)\n",
        "mse = mean_squared_error(y_test, y_pred)\n",
        "print(f\"Mean Squared Error: {mse}\")"
      ]
    },
    {
      "cell_type": "code",
      "execution_count": 31,
      "metadata": {
        "colab": {
          "base_uri": "https://localhost:8080/"
        },
        "id": "RDoc_NFUPkOi",
        "outputId": "f8a1119c-2f67-4fa8-e565-5917c809dba6"
      },
      "outputs": [
        {
          "name": "stdout",
          "output_type": "stream",
          "text": [
            "Actual: 2900      98.87\n",
            "3143      99.29\n",
            "8231      90.12\n",
            "3855      88.70\n",
            "8045      89.58\n",
            "7653     128.64\n",
            "8610     269.14\n",
            "7310     217.28\n",
            "10175     97.45\n",
            "5538     150.11\n",
            "Name: Water_Consumption, dtype: float64\n",
            "Predicted: [101.5354 108.2323  97.992   91.917  107.4448 124.206  307.9555 188.6793\n",
            "  99.6785 155.4515]\n",
            "      Actual  Predicted\n",
            "2900   98.87   101.5354\n",
            "3143   99.29   108.2323\n",
            "8231   90.12    97.9920\n",
            "3855   88.70    91.9170\n",
            "8045   89.58   107.4448\n"
          ]
        }
      ],
      "source": [
        "# Print the first 10 actual and predicted values\n",
        "print(\"Actual:\", y_test[:10])\n",
        "print(\"Predicted:\", y_pred[:10])\n",
        "\n",
        "# Create a DataFrame to compare\n",
        "results_df = pd.DataFrame({'Actual': y_test, 'Predicted': y_pred})\n",
        "print(results_df.head()) # Print the first 5 rows"
      ]
    },
    {
      "cell_type": "code",
      "execution_count": 32,
      "metadata": {
        "colab": {
          "base_uri": "https://localhost:8080/"
        },
        "id": "vNtOlAvkPSRJ",
        "outputId": "e3c48209-3074-46ef-a575-55aec7044517"
      },
      "outputs": [
        {
          "name": "stdout",
          "output_type": "stream",
          "text": [
            "Score: 80.47444786461477\n"
          ]
        }
      ],
      "source": [
        "mse = metrics.mean_squared_error(y_test, y_pred)\n",
        "rmse = np.sqrt(mse)\n",
        "score = max(0, 100 - rmse)\n",
        "\n",
        "print(\"Score:\", score)"
      ]
    },
    {
      "cell_type": "code",
      "execution_count": 33,
      "metadata": {
        "colab": {
          "base_uri": "https://localhost:8080/",
          "height": 429
        },
        "id": "TTiBu171QM2Z",
        "outputId": "5ee316fb-6915-4988-edb6-68cc3dff1a27"
      },
      "outputs": [
        {
          "data": {
            "text/plain": [
              "Residents                     0\n",
              "Apartment_Type                0\n",
              "Temperature                 441\n",
              "Humidity                    397\n",
              "Water_Price                   0\n",
              "Period_Consumption_Index      0\n",
              "Income_Level                  0\n",
              "Guests                        0\n",
              "Amenities                     0\n",
              "Appliance_Usage             415\n",
              "Water_Consumption             0\n",
              "dtype: int64"
            ]
          },
          "execution_count": 33,
          "metadata": {},
          "output_type": "execute_result"
        }
      ],
      "source": [
        "data.isna().sum()"
      ]
    },
    {
      "cell_type": "code",
      "execution_count": 34,
      "metadata": {
        "colab": {
          "base_uri": "https://localhost:8080/",
          "height": 1000,
          "referenced_widgets": [
            "ad3a53f573744737adf8413925a037ca",
            "5e85cdca95e14c518c2c3502dc505b2a",
            "152ea10e838f489e95dff91a7a02fc60",
            "844fdba765fd46fba68bd9d968a2a7c4",
            "d680a7ee96f74a2a851799e1e6308f0e",
            "bd82c0e1f93143788287575e21b4307d",
            "bb4e29443abe454fa7e074acdaa656f3",
            "e43c8185bf6f4c22ae7308f3cf712848",
            "1c37812f71d74091bab9c0a383012ad3",
            "ce85310d55f74bd383796359136eac3c",
            "a494a36ac601482e819b75b716340f4c"
          ]
        },
        "id": "D8w63P-DQvRh",
        "outputId": "c6567527-ae1f-40b7-c410-95c72a4b51e8"
      },
      "outputs": [
        {
          "data": {
            "text/html": [
              "<style type=\"text/css\">\n",
              "#T_a1628_row9_col1, #T_a1628_row13_col1, #T_a1628_row15_col1 {\n",
              "  background-color: lightgreen;\n",
              "}\n",
              "</style>\n",
              "<table id=\"T_a1628\">\n",
              "  <thead>\n",
              "    <tr>\n",
              "      <th class=\"blank level0\" >&nbsp;</th>\n",
              "      <th id=\"T_a1628_level0_col0\" class=\"col_heading level0 col0\" >Description</th>\n",
              "      <th id=\"T_a1628_level0_col1\" class=\"col_heading level0 col1\" >Value</th>\n",
              "    </tr>\n",
              "  </thead>\n",
              "  <tbody>\n",
              "    <tr>\n",
              "      <th id=\"T_a1628_level0_row0\" class=\"row_heading level0 row0\" >0</th>\n",
              "      <td id=\"T_a1628_row0_col0\" class=\"data row0 col0\" >Session id</td>\n",
              "      <td id=\"T_a1628_row0_col1\" class=\"data row0 col1\" >42</td>\n",
              "    </tr>\n",
              "    <tr>\n",
              "      <th id=\"T_a1628_level0_row1\" class=\"row_heading level0 row1\" >1</th>\n",
              "      <td id=\"T_a1628_row1_col0\" class=\"data row1 col0\" >Target</td>\n",
              "      <td id=\"T_a1628_row1_col1\" class=\"data row1 col1\" >Water_Consumption</td>\n",
              "    </tr>\n",
              "    <tr>\n",
              "      <th id=\"T_a1628_level0_row2\" class=\"row_heading level0 row2\" >2</th>\n",
              "      <td id=\"T_a1628_row2_col0\" class=\"data row2 col0\" >Target type</td>\n",
              "      <td id=\"T_a1628_row2_col1\" class=\"data row2 col1\" >Regression</td>\n",
              "    </tr>\n",
              "    <tr>\n",
              "      <th id=\"T_a1628_level0_row3\" class=\"row_heading level0 row3\" >3</th>\n",
              "      <td id=\"T_a1628_row3_col0\" class=\"data row3 col0\" >Original data shape</td>\n",
              "      <td id=\"T_a1628_row3_col1\" class=\"data row3 col1\" >(11200, 11)</td>\n",
              "    </tr>\n",
              "    <tr>\n",
              "      <th id=\"T_a1628_level0_row4\" class=\"row_heading level0 row4\" >4</th>\n",
              "      <td id=\"T_a1628_row4_col0\" class=\"data row4 col0\" >Transformed data shape</td>\n",
              "      <td id=\"T_a1628_row4_col1\" class=\"data row4 col1\" >(11200, 11)</td>\n",
              "    </tr>\n",
              "    <tr>\n",
              "      <th id=\"T_a1628_level0_row5\" class=\"row_heading level0 row5\" >5</th>\n",
              "      <td id=\"T_a1628_row5_col0\" class=\"data row5 col0\" >Transformed train set shape</td>\n",
              "      <td id=\"T_a1628_row5_col1\" class=\"data row5 col1\" >(8960, 11)</td>\n",
              "    </tr>\n",
              "    <tr>\n",
              "      <th id=\"T_a1628_level0_row6\" class=\"row_heading level0 row6\" >6</th>\n",
              "      <td id=\"T_a1628_row6_col0\" class=\"data row6 col0\" >Transformed test set shape</td>\n",
              "      <td id=\"T_a1628_row6_col1\" class=\"data row6 col1\" >(2240, 11)</td>\n",
              "    </tr>\n",
              "    <tr>\n",
              "      <th id=\"T_a1628_level0_row7\" class=\"row_heading level0 row7\" >7</th>\n",
              "      <td id=\"T_a1628_row7_col0\" class=\"data row7 col0\" >Numeric features</td>\n",
              "      <td id=\"T_a1628_row7_col1\" class=\"data row7 col1\" >10</td>\n",
              "    </tr>\n",
              "    <tr>\n",
              "      <th id=\"T_a1628_level0_row8\" class=\"row_heading level0 row8\" >8</th>\n",
              "      <td id=\"T_a1628_row8_col0\" class=\"data row8 col0\" >Rows with missing values</td>\n",
              "      <td id=\"T_a1628_row8_col1\" class=\"data row8 col1\" >8.6%</td>\n",
              "    </tr>\n",
              "    <tr>\n",
              "      <th id=\"T_a1628_level0_row9\" class=\"row_heading level0 row9\" >9</th>\n",
              "      <td id=\"T_a1628_row9_col0\" class=\"data row9 col0\" >Preprocess</td>\n",
              "      <td id=\"T_a1628_row9_col1\" class=\"data row9 col1\" >True</td>\n",
              "    </tr>\n",
              "    <tr>\n",
              "      <th id=\"T_a1628_level0_row10\" class=\"row_heading level0 row10\" >10</th>\n",
              "      <td id=\"T_a1628_row10_col0\" class=\"data row10 col0\" >Imputation type</td>\n",
              "      <td id=\"T_a1628_row10_col1\" class=\"data row10 col1\" >simple</td>\n",
              "    </tr>\n",
              "    <tr>\n",
              "      <th id=\"T_a1628_level0_row11\" class=\"row_heading level0 row11\" >11</th>\n",
              "      <td id=\"T_a1628_row11_col0\" class=\"data row11 col0\" >Numeric imputation</td>\n",
              "      <td id=\"T_a1628_row11_col1\" class=\"data row11 col1\" >mean</td>\n",
              "    </tr>\n",
              "    <tr>\n",
              "      <th id=\"T_a1628_level0_row12\" class=\"row_heading level0 row12\" >12</th>\n",
              "      <td id=\"T_a1628_row12_col0\" class=\"data row12 col0\" >Categorical imputation</td>\n",
              "      <td id=\"T_a1628_row12_col1\" class=\"data row12 col1\" >mode</td>\n",
              "    </tr>\n",
              "    <tr>\n",
              "      <th id=\"T_a1628_level0_row13\" class=\"row_heading level0 row13\" >13</th>\n",
              "      <td id=\"T_a1628_row13_col0\" class=\"data row13 col0\" >Remove multicollinearity</td>\n",
              "      <td id=\"T_a1628_row13_col1\" class=\"data row13 col1\" >True</td>\n",
              "    </tr>\n",
              "    <tr>\n",
              "      <th id=\"T_a1628_level0_row14\" class=\"row_heading level0 row14\" >14</th>\n",
              "      <td id=\"T_a1628_row14_col0\" class=\"data row14 col0\" >Multicollinearity threshold</td>\n",
              "      <td id=\"T_a1628_row14_col1\" class=\"data row14 col1\" >0.900000</td>\n",
              "    </tr>\n",
              "    <tr>\n",
              "      <th id=\"T_a1628_level0_row15\" class=\"row_heading level0 row15\" >15</th>\n",
              "      <td id=\"T_a1628_row15_col0\" class=\"data row15 col0\" >Normalize</td>\n",
              "      <td id=\"T_a1628_row15_col1\" class=\"data row15 col1\" >True</td>\n",
              "    </tr>\n",
              "    <tr>\n",
              "      <th id=\"T_a1628_level0_row16\" class=\"row_heading level0 row16\" >16</th>\n",
              "      <td id=\"T_a1628_row16_col0\" class=\"data row16 col0\" >Normalize method</td>\n",
              "      <td id=\"T_a1628_row16_col1\" class=\"data row16 col1\" >zscore</td>\n",
              "    </tr>\n",
              "    <tr>\n",
              "      <th id=\"T_a1628_level0_row17\" class=\"row_heading level0 row17\" >17</th>\n",
              "      <td id=\"T_a1628_row17_col0\" class=\"data row17 col0\" >Fold Generator</td>\n",
              "      <td id=\"T_a1628_row17_col1\" class=\"data row17 col1\" >KFold</td>\n",
              "    </tr>\n",
              "    <tr>\n",
              "      <th id=\"T_a1628_level0_row18\" class=\"row_heading level0 row18\" >18</th>\n",
              "      <td id=\"T_a1628_row18_col0\" class=\"data row18 col0\" >Fold Number</td>\n",
              "      <td id=\"T_a1628_row18_col1\" class=\"data row18 col1\" >10</td>\n",
              "    </tr>\n",
              "    <tr>\n",
              "      <th id=\"T_a1628_level0_row19\" class=\"row_heading level0 row19\" >19</th>\n",
              "      <td id=\"T_a1628_row19_col0\" class=\"data row19 col0\" >CPU Jobs</td>\n",
              "      <td id=\"T_a1628_row19_col1\" class=\"data row19 col1\" >-1</td>\n",
              "    </tr>\n",
              "    <tr>\n",
              "      <th id=\"T_a1628_level0_row20\" class=\"row_heading level0 row20\" >20</th>\n",
              "      <td id=\"T_a1628_row20_col0\" class=\"data row20 col0\" >Use GPU</td>\n",
              "      <td id=\"T_a1628_row20_col1\" class=\"data row20 col1\" >False</td>\n",
              "    </tr>\n",
              "    <tr>\n",
              "      <th id=\"T_a1628_level0_row21\" class=\"row_heading level0 row21\" >21</th>\n",
              "      <td id=\"T_a1628_row21_col0\" class=\"data row21 col0\" >Log Experiment</td>\n",
              "      <td id=\"T_a1628_row21_col1\" class=\"data row21 col1\" >False</td>\n",
              "    </tr>\n",
              "    <tr>\n",
              "      <th id=\"T_a1628_level0_row22\" class=\"row_heading level0 row22\" >22</th>\n",
              "      <td id=\"T_a1628_row22_col0\" class=\"data row22 col0\" >Experiment Name</td>\n",
              "      <td id=\"T_a1628_row22_col1\" class=\"data row22 col1\" >reg-default-name</td>\n",
              "    </tr>\n",
              "    <tr>\n",
              "      <th id=\"T_a1628_level0_row23\" class=\"row_heading level0 row23\" >23</th>\n",
              "      <td id=\"T_a1628_row23_col0\" class=\"data row23 col0\" >USI</td>\n",
              "      <td id=\"T_a1628_row23_col1\" class=\"data row23 col1\" >230b</td>\n",
              "    </tr>\n",
              "  </tbody>\n",
              "</table>\n"
            ],
            "text/plain": [
              "<pandas.io.formats.style.Styler at 0x16548db5990>"
            ]
          },
          "metadata": {},
          "output_type": "display_data"
        },
        {
          "data": {
            "text/html": [],
            "text/plain": [
              "<IPython.core.display.HTML object>"
            ]
          },
          "metadata": {},
          "output_type": "display_data"
        },
        {
          "data": {
            "text/html": [
              "<style type=\"text/css\">\n",
              "#T_c609f th {\n",
              "  text-align: left;\n",
              "}\n",
              "#T_c609f_row0_col0, #T_c609f_row1_col0, #T_c609f_row1_col1, #T_c609f_row1_col2, #T_c609f_row1_col3, #T_c609f_row1_col4, #T_c609f_row1_col5, #T_c609f_row1_col6, #T_c609f_row2_col0, #T_c609f_row2_col1, #T_c609f_row2_col2, #T_c609f_row2_col3, #T_c609f_row2_col4, #T_c609f_row2_col5, #T_c609f_row2_col6, #T_c609f_row3_col0, #T_c609f_row3_col1, #T_c609f_row3_col2, #T_c609f_row3_col3, #T_c609f_row3_col4, #T_c609f_row3_col5, #T_c609f_row3_col6, #T_c609f_row4_col0, #T_c609f_row4_col1, #T_c609f_row4_col2, #T_c609f_row4_col3, #T_c609f_row4_col4, #T_c609f_row4_col5, #T_c609f_row4_col6, #T_c609f_row5_col0, #T_c609f_row5_col1, #T_c609f_row5_col2, #T_c609f_row5_col3, #T_c609f_row5_col4, #T_c609f_row5_col5, #T_c609f_row5_col6, #T_c609f_row6_col0, #T_c609f_row6_col1, #T_c609f_row6_col2, #T_c609f_row6_col3, #T_c609f_row6_col4, #T_c609f_row6_col5, #T_c609f_row6_col6, #T_c609f_row7_col0, #T_c609f_row7_col1, #T_c609f_row7_col2, #T_c609f_row7_col3, #T_c609f_row7_col4, #T_c609f_row7_col5, #T_c609f_row7_col6, #T_c609f_row8_col0, #T_c609f_row8_col1, #T_c609f_row8_col2, #T_c609f_row8_col3, #T_c609f_row8_col4, #T_c609f_row8_col5, #T_c609f_row8_col6, #T_c609f_row9_col0, #T_c609f_row9_col1, #T_c609f_row9_col2, #T_c609f_row9_col3, #T_c609f_row9_col4, #T_c609f_row9_col5, #T_c609f_row9_col6, #T_c609f_row10_col0, #T_c609f_row10_col1, #T_c609f_row10_col2, #T_c609f_row10_col3, #T_c609f_row10_col4, #T_c609f_row10_col5, #T_c609f_row10_col6, #T_c609f_row11_col0, #T_c609f_row11_col1, #T_c609f_row11_col2, #T_c609f_row11_col3, #T_c609f_row11_col4, #T_c609f_row11_col5, #T_c609f_row11_col6, #T_c609f_row12_col0, #T_c609f_row12_col1, #T_c609f_row12_col2, #T_c609f_row12_col3, #T_c609f_row12_col4, #T_c609f_row12_col5, #T_c609f_row12_col6, #T_c609f_row13_col0, #T_c609f_row13_col1, #T_c609f_row13_col2, #T_c609f_row13_col3, #T_c609f_row13_col4, #T_c609f_row13_col5, #T_c609f_row13_col6, #T_c609f_row14_col0, #T_c609f_row14_col1, #T_c609f_row14_col2, #T_c609f_row14_col3, #T_c609f_row14_col4, #T_c609f_row14_col5, #T_c609f_row14_col6, #T_c609f_row15_col0, #T_c609f_row15_col1, #T_c609f_row15_col2, #T_c609f_row15_col3, #T_c609f_row15_col4, #T_c609f_row15_col5, #T_c609f_row15_col6, #T_c609f_row16_col0, #T_c609f_row16_col1, #T_c609f_row16_col2, #T_c609f_row16_col3, #T_c609f_row16_col4, #T_c609f_row16_col5, #T_c609f_row16_col6, #T_c609f_row17_col0, #T_c609f_row17_col1, #T_c609f_row17_col2, #T_c609f_row17_col3, #T_c609f_row17_col4, #T_c609f_row17_col5, #T_c609f_row17_col6 {\n",
              "  text-align: left;\n",
              "}\n",
              "#T_c609f_row0_col1, #T_c609f_row0_col2, #T_c609f_row0_col3, #T_c609f_row0_col4, #T_c609f_row0_col5, #T_c609f_row0_col6 {\n",
              "  text-align: left;\n",
              "  background-color: yellow;\n",
              "}\n",
              "#T_c609f_row0_col7, #T_c609f_row1_col7, #T_c609f_row2_col7, #T_c609f_row3_col7, #T_c609f_row4_col7, #T_c609f_row5_col7, #T_c609f_row6_col7, #T_c609f_row8_col7, #T_c609f_row9_col7, #T_c609f_row10_col7, #T_c609f_row11_col7, #T_c609f_row12_col7, #T_c609f_row13_col7, #T_c609f_row14_col7, #T_c609f_row15_col7, #T_c609f_row16_col7, #T_c609f_row17_col7 {\n",
              "  text-align: left;\n",
              "  background-color: lightgrey;\n",
              "}\n",
              "#T_c609f_row7_col7 {\n",
              "  text-align: left;\n",
              "  background-color: yellow;\n",
              "  background-color: lightgrey;\n",
              "}\n",
              "</style>\n",
              "<table id=\"T_c609f\">\n",
              "  <thead>\n",
              "    <tr>\n",
              "      <th class=\"blank level0\" >&nbsp;</th>\n",
              "      <th id=\"T_c609f_level0_col0\" class=\"col_heading level0 col0\" >Model</th>\n",
              "      <th id=\"T_c609f_level0_col1\" class=\"col_heading level0 col1\" >MAE</th>\n",
              "      <th id=\"T_c609f_level0_col2\" class=\"col_heading level0 col2\" >MSE</th>\n",
              "      <th id=\"T_c609f_level0_col3\" class=\"col_heading level0 col3\" >RMSE</th>\n",
              "      <th id=\"T_c609f_level0_col4\" class=\"col_heading level0 col4\" >R2</th>\n",
              "      <th id=\"T_c609f_level0_col5\" class=\"col_heading level0 col5\" >RMSLE</th>\n",
              "      <th id=\"T_c609f_level0_col6\" class=\"col_heading level0 col6\" >MAPE</th>\n",
              "      <th id=\"T_c609f_level0_col7\" class=\"col_heading level0 col7\" >TT (Sec)</th>\n",
              "    </tr>\n",
              "  </thead>\n",
              "  <tbody>\n",
              "    <tr>\n",
              "      <th id=\"T_c609f_level0_row0\" class=\"row_heading level0 row0\" >lightgbm</th>\n",
              "      <td id=\"T_c609f_row0_col0\" class=\"data row0 col0\" >Light Gradient Boosting Machine</td>\n",
              "      <td id=\"T_c609f_row0_col1\" class=\"data row0 col1\" >7.3365</td>\n",
              "      <td id=\"T_c609f_row0_col2\" class=\"data row0 col2\" >155.4341</td>\n",
              "      <td id=\"T_c609f_row0_col3\" class=\"data row0 col3\" >12.4269</td>\n",
              "      <td id=\"T_c609f_row0_col4\" class=\"data row0 col4\" >0.9703</td>\n",
              "      <td id=\"T_c609f_row0_col5\" class=\"data row0 col5\" >0.0665</td>\n",
              "      <td id=\"T_c609f_row0_col6\" class=\"data row0 col6\" >0.0440</td>\n",
              "      <td id=\"T_c609f_row0_col7\" class=\"data row0 col7\" >0.1600</td>\n",
              "    </tr>\n",
              "    <tr>\n",
              "      <th id=\"T_c609f_level0_row1\" class=\"row_heading level0 row1\" >gbr</th>\n",
              "      <td id=\"T_c609f_row1_col0\" class=\"data row1 col0\" >Gradient Boosting Regressor</td>\n",
              "      <td id=\"T_c609f_row1_col1\" class=\"data row1 col1\" >10.5826</td>\n",
              "      <td id=\"T_c609f_row1_col2\" class=\"data row1 col2\" >264.0079</td>\n",
              "      <td id=\"T_c609f_row1_col3\" class=\"data row1 col3\" >16.2154</td>\n",
              "      <td id=\"T_c609f_row1_col4\" class=\"data row1 col4\" >0.9496</td>\n",
              "      <td id=\"T_c609f_row1_col5\" class=\"data row1 col5\" >0.0887</td>\n",
              "      <td id=\"T_c609f_row1_col6\" class=\"data row1 col6\" >0.0648</td>\n",
              "      <td id=\"T_c609f_row1_col7\" class=\"data row1 col7\" >0.1540</td>\n",
              "    </tr>\n",
              "    <tr>\n",
              "      <th id=\"T_c609f_level0_row2\" class=\"row_heading level0 row2\" >et</th>\n",
              "      <td id=\"T_c609f_row2_col0\" class=\"data row2 col0\" >Extra Trees Regressor</td>\n",
              "      <td id=\"T_c609f_row2_col1\" class=\"data row2 col1\" >12.0820</td>\n",
              "      <td id=\"T_c609f_row2_col2\" class=\"data row2 col2\" >349.0559</td>\n",
              "      <td id=\"T_c609f_row2_col3\" class=\"data row2 col3\" >18.6511</td>\n",
              "      <td id=\"T_c609f_row2_col4\" class=\"data row2 col4\" >0.9333</td>\n",
              "      <td id=\"T_c609f_row2_col5\" class=\"data row2 col5\" >0.1005</td>\n",
              "      <td id=\"T_c609f_row2_col6\" class=\"data row2 col6\" >0.0731</td>\n",
              "      <td id=\"T_c609f_row2_col7\" class=\"data row2 col7\" >0.2940</td>\n",
              "    </tr>\n",
              "    <tr>\n",
              "      <th id=\"T_c609f_level0_row3\" class=\"row_heading level0 row3\" >rf</th>\n",
              "      <td id=\"T_c609f_row3_col0\" class=\"data row3 col0\" >Random Forest Regressor</td>\n",
              "      <td id=\"T_c609f_row3_col1\" class=\"data row3 col1\" >13.5740</td>\n",
              "      <td id=\"T_c609f_row3_col2\" class=\"data row3 col2\" >415.5807</td>\n",
              "      <td id=\"T_c609f_row3_col3\" class=\"data row3 col3\" >20.3562</td>\n",
              "      <td id=\"T_c609f_row3_col4\" class=\"data row3 col4\" >0.9206</td>\n",
              "      <td id=\"T_c609f_row3_col5\" class=\"data row3 col5\" >0.1074</td>\n",
              "      <td id=\"T_c609f_row3_col6\" class=\"data row3 col6\" >0.0810</td>\n",
              "      <td id=\"T_c609f_row3_col7\" class=\"data row3 col7\" >0.5080</td>\n",
              "    </tr>\n",
              "    <tr>\n",
              "      <th id=\"T_c609f_level0_row4\" class=\"row_heading level0 row4\" >dt</th>\n",
              "      <td id=\"T_c609f_row4_col0\" class=\"data row4 col0\" >Decision Tree Regressor</td>\n",
              "      <td id=\"T_c609f_row4_col1\" class=\"data row4 col1\" >21.1609</td>\n",
              "      <td id=\"T_c609f_row4_col2\" class=\"data row4 col2\" >995.0465</td>\n",
              "      <td id=\"T_c609f_row4_col3\" class=\"data row4 col3\" >31.5160</td>\n",
              "      <td id=\"T_c609f_row4_col4\" class=\"data row4 col4\" >0.8096</td>\n",
              "      <td id=\"T_c609f_row4_col5\" class=\"data row4 col5\" >0.1669</td>\n",
              "      <td id=\"T_c609f_row4_col6\" class=\"data row4 col6\" >0.1254</td>\n",
              "      <td id=\"T_c609f_row4_col7\" class=\"data row4 col7\" >0.0180</td>\n",
              "    </tr>\n",
              "    <tr>\n",
              "      <th id=\"T_c609f_level0_row5\" class=\"row_heading level0 row5\" >knn</th>\n",
              "      <td id=\"T_c609f_row5_col0\" class=\"data row5 col0\" >K Neighbors Regressor</td>\n",
              "      <td id=\"T_c609f_row5_col1\" class=\"data row5 col1\" >26.0569</td>\n",
              "      <td id=\"T_c609f_row5_col2\" class=\"data row5 col2\" >1374.9468</td>\n",
              "      <td id=\"T_c609f_row5_col3\" class=\"data row5 col3\" >37.0331</td>\n",
              "      <td id=\"T_c609f_row5_col4\" class=\"data row5 col4\" >0.7374</td>\n",
              "      <td id=\"T_c609f_row5_col5\" class=\"data row5 col5\" >0.2067</td>\n",
              "      <td id=\"T_c609f_row5_col6\" class=\"data row5 col6\" >0.1635</td>\n",
              "      <td id=\"T_c609f_row5_col7\" class=\"data row5 col7\" >0.0360</td>\n",
              "    </tr>\n",
              "    <tr>\n",
              "      <th id=\"T_c609f_level0_row6\" class=\"row_heading level0 row6\" >ada</th>\n",
              "      <td id=\"T_c609f_row6_col0\" class=\"data row6 col0\" >AdaBoost Regressor</td>\n",
              "      <td id=\"T_c609f_row6_col1\" class=\"data row6 col1\" >33.2732</td>\n",
              "      <td id=\"T_c609f_row6_col2\" class=\"data row6 col2\" >1489.1309</td>\n",
              "      <td id=\"T_c609f_row6_col3\" class=\"data row6 col3\" >38.5794</td>\n",
              "      <td id=\"T_c609f_row6_col4\" class=\"data row6 col4\" >0.7142</td>\n",
              "      <td id=\"T_c609f_row6_col5\" class=\"data row6 col5\" >0.2845</td>\n",
              "      <td id=\"T_c609f_row6_col6\" class=\"data row6 col6\" >0.2747</td>\n",
              "      <td id=\"T_c609f_row6_col7\" class=\"data row6 col7\" >0.0880</td>\n",
              "    </tr>\n",
              "    <tr>\n",
              "      <th id=\"T_c609f_level0_row7\" class=\"row_heading level0 row7\" >omp</th>\n",
              "      <td id=\"T_c609f_row7_col0\" class=\"data row7 col0\" >Orthogonal Matching Pursuit</td>\n",
              "      <td id=\"T_c609f_row7_col1\" class=\"data row7 col1\" >48.0957</td>\n",
              "      <td id=\"T_c609f_row7_col2\" class=\"data row7 col2\" >3992.1381</td>\n",
              "      <td id=\"T_c609f_row7_col3\" class=\"data row7 col3\" >63.1366</td>\n",
              "      <td id=\"T_c609f_row7_col4\" class=\"data row7 col4\" >0.2371</td>\n",
              "      <td id=\"T_c609f_row7_col5\" class=\"data row7 col5\" >0.3714</td>\n",
              "      <td id=\"T_c609f_row7_col6\" class=\"data row7 col6\" >0.3352</td>\n",
              "      <td id=\"T_c609f_row7_col7\" class=\"data row7 col7\" >0.0090</td>\n",
              "    </tr>\n",
              "    <tr>\n",
              "      <th id=\"T_c609f_level0_row8\" class=\"row_heading level0 row8\" >dummy</th>\n",
              "      <td id=\"T_c609f_row8_col0\" class=\"data row8 col0\" >Dummy Regressor</td>\n",
              "      <td id=\"T_c609f_row8_col1\" class=\"data row8 col1\" >57.6332</td>\n",
              "      <td id=\"T_c609f_row8_col2\" class=\"data row8 col2\" >5239.9009</td>\n",
              "      <td id=\"T_c609f_row8_col3\" class=\"data row8 col3\" >72.3488</td>\n",
              "      <td id=\"T_c609f_row8_col4\" class=\"data row8 col4\" >-0.0018</td>\n",
              "      <td id=\"T_c609f_row8_col5\" class=\"data row8 col5\" >0.4500</td>\n",
              "      <td id=\"T_c609f_row8_col6\" class=\"data row8 col6\" >0.4338</td>\n",
              "      <td id=\"T_c609f_row8_col7\" class=\"data row8 col7\" >0.0100</td>\n",
              "    </tr>\n",
              "    <tr>\n",
              "      <th id=\"T_c609f_level0_row9\" class=\"row_heading level0 row9\" >en</th>\n",
              "      <td id=\"T_c609f_row9_col0\" class=\"data row9 col0\" >Elastic Net</td>\n",
              "      <td id=\"T_c609f_row9_col1\" class=\"data row9 col1\" >50.2040</td>\n",
              "      <td id=\"T_c609f_row9_col2\" class=\"data row9 col2\" >402426.6157</td>\n",
              "      <td id=\"T_c609f_row9_col3\" class=\"data row9 col3\" >250.6135</td>\n",
              "      <td id=\"T_c609f_row9_col4\" class=\"data row9 col4\" >-72.6643</td>\n",
              "      <td id=\"T_c609f_row9_col5\" class=\"data row9 col5\" >0.3426</td>\n",
              "      <td id=\"T_c609f_row9_col6\" class=\"data row9 col6\" >0.3324</td>\n",
              "      <td id=\"T_c609f_row9_col7\" class=\"data row9 col7\" >0.0100</td>\n",
              "    </tr>\n",
              "    <tr>\n",
              "      <th id=\"T_c609f_level0_row10\" class=\"row_heading level0 row10\" >par</th>\n",
              "      <td id=\"T_c609f_row10_col0\" class=\"data row10 col0\" >Passive Aggressive Regressor</td>\n",
              "      <td id=\"T_c609f_row10_col1\" class=\"data row10 col1\" >49.2911</td>\n",
              "      <td id=\"T_c609f_row10_col2\" class=\"data row10 col2\" >636897.3098</td>\n",
              "      <td id=\"T_c609f_row10_col3\" class=\"data row10 col3\" >304.0472</td>\n",
              "      <td id=\"T_c609f_row10_col4\" class=\"data row10 col4\" >-115.5704</td>\n",
              "      <td id=\"T_c609f_row10_col5\" class=\"data row10 col5\" >0.3748</td>\n",
              "      <td id=\"T_c609f_row10_col6\" class=\"data row10 col6\" >0.2788</td>\n",
              "      <td id=\"T_c609f_row10_col7\" class=\"data row10 col7\" >0.0100</td>\n",
              "    </tr>\n",
              "    <tr>\n",
              "      <th id=\"T_c609f_level0_row11\" class=\"row_heading level0 row11\" >huber</th>\n",
              "      <td id=\"T_c609f_row11_col0\" class=\"data row11 col0\" >Huber Regressor</td>\n",
              "      <td id=\"T_c609f_row11_col1\" class=\"data row11 col1\" >47.8432</td>\n",
              "      <td id=\"T_c609f_row11_col2\" class=\"data row11 col2\" >696894.2573</td>\n",
              "      <td id=\"T_c609f_row11_col3\" class=\"data row11 col3\" >312.5997</td>\n",
              "      <td id=\"T_c609f_row11_col4\" class=\"data row11 col4\" >-126.5462</td>\n",
              "      <td id=\"T_c609f_row11_col5\" class=\"data row11 col5\" >0.3127</td>\n",
              "      <td id=\"T_c609f_row11_col6\" class=\"data row11 col6\" >0.2742</td>\n",
              "      <td id=\"T_c609f_row11_col7\" class=\"data row11 col7\" >0.0140</td>\n",
              "    </tr>\n",
              "    <tr>\n",
              "      <th id=\"T_c609f_level0_row12\" class=\"row_heading level0 row12\" >lasso</th>\n",
              "      <td id=\"T_c609f_row12_col0\" class=\"data row12 col0\" >Lasso Regression</td>\n",
              "      <td id=\"T_c609f_row12_col1\" class=\"data row12 col1\" >49.9490</td>\n",
              "      <td id=\"T_c609f_row12_col2\" class=\"data row12 col2\" >785497.2085</td>\n",
              "      <td id=\"T_c609f_row12_col3\" class=\"data row12 col3\" >328.2604</td>\n",
              "      <td id=\"T_c609f_row12_col4\" class=\"data row12 col4\" >-142.7589</td>\n",
              "      <td id=\"T_c609f_row12_col5\" class=\"data row12 col5\" >0.3200</td>\n",
              "      <td id=\"T_c609f_row12_col6\" class=\"data row12 col6\" >0.3078</td>\n",
              "      <td id=\"T_c609f_row12_col7\" class=\"data row12 col7\" >0.2330</td>\n",
              "    </tr>\n",
              "    <tr>\n",
              "      <th id=\"T_c609f_level0_row13\" class=\"row_heading level0 row13\" >llar</th>\n",
              "      <td id=\"T_c609f_row13_col0\" class=\"data row13 col0\" >Lasso Least Angle Regression</td>\n",
              "      <td id=\"T_c609f_row13_col1\" class=\"data row13 col1\" >49.9490</td>\n",
              "      <td id=\"T_c609f_row13_col2\" class=\"data row13 col2\" >785497.5086</td>\n",
              "      <td id=\"T_c609f_row13_col3\" class=\"data row13 col3\" >328.2605</td>\n",
              "      <td id=\"T_c609f_row13_col4\" class=\"data row13 col4\" >-142.7589</td>\n",
              "      <td id=\"T_c609f_row13_col5\" class=\"data row13 col5\" >0.3200</td>\n",
              "      <td id=\"T_c609f_row13_col6\" class=\"data row13 col6\" >0.3078</td>\n",
              "      <td id=\"T_c609f_row13_col7\" class=\"data row13 col7\" >0.0100</td>\n",
              "    </tr>\n",
              "    <tr>\n",
              "      <th id=\"T_c609f_level0_row14\" class=\"row_heading level0 row14\" >br</th>\n",
              "      <td id=\"T_c609f_row14_col0\" class=\"data row14 col0\" >Bayesian Ridge</td>\n",
              "      <td id=\"T_c609f_row14_col1\" class=\"data row14 col1\" >50.5510</td>\n",
              "      <td id=\"T_c609f_row14_col2\" class=\"data row14 col2\" >910574.7962</td>\n",
              "      <td id=\"T_c609f_row14_col3\" class=\"data row14 col3\" >349.7199</td>\n",
              "      <td id=\"T_c609f_row14_col4\" class=\"data row14 col4\" >-165.6462</td>\n",
              "      <td id=\"T_c609f_row14_col5\" class=\"data row14 col5\" >0.3196</td>\n",
              "      <td id=\"T_c609f_row14_col6\" class=\"data row14 col6\" >0.3077</td>\n",
              "      <td id=\"T_c609f_row14_col7\" class=\"data row14 col7\" >0.0100</td>\n",
              "    </tr>\n",
              "    <tr>\n",
              "      <th id=\"T_c609f_level0_row15\" class=\"row_heading level0 row15\" >ridge</th>\n",
              "      <td id=\"T_c609f_row15_col0\" class=\"data row15 col0\" >Ridge Regression</td>\n",
              "      <td id=\"T_c609f_row15_col1\" class=\"data row15 col1\" >50.5590</td>\n",
              "      <td id=\"T_c609f_row15_col2\" class=\"data row15 col2\" >912710.7711</td>\n",
              "      <td id=\"T_c609f_row15_col3\" class=\"data row15 col3\" >350.0739</td>\n",
              "      <td id=\"T_c609f_row15_col4\" class=\"data row15 col4\" >-166.0371</td>\n",
              "      <td id=\"T_c609f_row15_col5\" class=\"data row15 col5\" >0.3196</td>\n",
              "      <td id=\"T_c609f_row15_col6\" class=\"data row15 col6\" >0.3077</td>\n",
              "      <td id=\"T_c609f_row15_col7\" class=\"data row15 col7\" >0.0100</td>\n",
              "    </tr>\n",
              "    <tr>\n",
              "      <th id=\"T_c609f_level0_row16\" class=\"row_heading level0 row16\" >lr</th>\n",
              "      <td id=\"T_c609f_row16_col0\" class=\"data row16 col0\" >Linear Regression</td>\n",
              "      <td id=\"T_c609f_row16_col1\" class=\"data row16 col1\" >50.5598</td>\n",
              "      <td id=\"T_c609f_row16_col2\" class=\"data row16 col2\" >912916.3694</td>\n",
              "      <td id=\"T_c609f_row16_col3\" class=\"data row16 col3\" >350.1079</td>\n",
              "      <td id=\"T_c609f_row16_col4\" class=\"data row16 col4\" >-166.0747</td>\n",
              "      <td id=\"T_c609f_row16_col5\" class=\"data row16 col5\" >0.3196</td>\n",
              "      <td id=\"T_c609f_row16_col6\" class=\"data row16 col6\" >0.3077</td>\n",
              "      <td id=\"T_c609f_row16_col7\" class=\"data row16 col7\" >0.4990</td>\n",
              "    </tr>\n",
              "    <tr>\n",
              "      <th id=\"T_c609f_level0_row17\" class=\"row_heading level0 row17\" >lar</th>\n",
              "      <td id=\"T_c609f_row17_col0\" class=\"data row17 col0\" >Least Angle Regression</td>\n",
              "      <td id=\"T_c609f_row17_col1\" class=\"data row17 col1\" >50.5598</td>\n",
              "      <td id=\"T_c609f_row17_col2\" class=\"data row17 col2\" >912916.8695</td>\n",
              "      <td id=\"T_c609f_row17_col3\" class=\"data row17 col3\" >350.1080</td>\n",
              "      <td id=\"T_c609f_row17_col4\" class=\"data row17 col4\" >-166.0748</td>\n",
              "      <td id=\"T_c609f_row17_col5\" class=\"data row17 col5\" >0.3196</td>\n",
              "      <td id=\"T_c609f_row17_col6\" class=\"data row17 col6\" >0.3077</td>\n",
              "      <td id=\"T_c609f_row17_col7\" class=\"data row17 col7\" >0.0110</td>\n",
              "    </tr>\n",
              "  </tbody>\n",
              "</table>\n"
            ],
            "text/plain": [
              "<pandas.io.formats.style.Styler at 0x165511e5a90>"
            ]
          },
          "metadata": {},
          "output_type": "display_data"
        },
        {
          "data": {
            "text/html": [],
            "text/plain": [
              "<IPython.core.display.HTML object>"
            ]
          },
          "metadata": {},
          "output_type": "display_data"
        },
        {
          "name": "stdout",
          "output_type": "stream",
          "text": [
            "Best Model: LGBMRegressor(n_jobs=-1, random_state=42)\n"
          ]
        }
      ],
      "source": [
        "reg_setup = setup(data=pd.concat([X_train, y_train], axis=1),\n",
        "                  target='Water_Consumption',\n",
        "                  remove_multicollinearity=True,\n",
        "                  train_size=0.8,\n",
        "                  normalize=True,\n",
        "                  verbose=True,\n",
        "                  session_id=42)\n",
        "\n",
        "best_model = compare_models(sort='RMSE')\n",
        "print(f\"Best Model: {best_model}\")"
      ]
    },
    {
      "cell_type": "code",
      "execution_count": 35,
      "metadata": {
        "colab": {
          "base_uri": "https://localhost:8080/",
          "height": 86
        },
        "id": "zpDyEKkRQvT4",
        "outputId": "83892cc7-0a11-4a76-bb64-53014cd95798"
      },
      "outputs": [
        {
          "data": {
            "text/html": [],
            "text/plain": [
              "<IPython.core.display.HTML object>"
            ]
          },
          "metadata": {},
          "output_type": "display_data"
        },
        {
          "name": "stdout",
          "output_type": "stream",
          "text": [
            "X_test shape: (2800, 10)\n",
            "Predictions shape: (2800, 11)\n",
            "Final RMSE: 11.78\n",
            "Custom Score: 88.22\n"
          ]
        }
      ],
      "source": [
        "final_model = finalize_model(best_model)\n",
        "predictions = predict_model(final_model, data=X_test)\n",
        "\n",
        "\n",
        "print(f\"X_test shape: {X_test.shape}\")\n",
        "print(f\"Predictions shape: {predictions.shape}\")\n",
        "\n",
        "\n",
        "y_pred = predictions.iloc[:len(X_test)]['prediction_label']\n",
        "\n",
        "\n",
        "rmse_score = np.sqrt(mean_squared_error(y_test, y_pred))\n",
        "custom_score = max(0, 100 - rmse_score)\n",
        "\n",
        "print(f\"Final RMSE: {rmse_score:.2f}\")\n",
        "print(f\"Custom Score: {custom_score:.2f}\")\n"
      ]
    },
    {
      "cell_type": "code",
      "execution_count": 36,
      "metadata": {
        "colab": {
          "base_uri": "https://localhost:8080/",
          "height": 429
        },
        "id": "WgHBIDwoQvWm",
        "outputId": "32306166-a523-4ccb-c4b7-58e5814d6738"
      },
      "outputs": [
        {
          "data": {
            "text/plain": [
              "Residents                     0\n",
              "Apartment_Type                0\n",
              "Temperature                 441\n",
              "Humidity                    397\n",
              "Water_Price                   0\n",
              "Period_Consumption_Index      0\n",
              "Income_Level                  0\n",
              "Guests                        0\n",
              "Amenities                     0\n",
              "Appliance_Usage             415\n",
              "Water_Consumption             0\n",
              "dtype: int64"
            ]
          },
          "execution_count": 36,
          "metadata": {},
          "output_type": "execute_result"
        }
      ],
      "source": [
        "data.isna().sum()"
      ]
    },
    {
      "cell_type": "code",
      "execution_count": 37,
      "metadata": {
        "id": "r6c8SxODXULv"
      },
      "outputs": [],
      "source": [
        "dt=data.copy()"
      ]
    },
    {
      "cell_type": "code",
      "execution_count": 38,
      "metadata": {
        "id": "xqFs3oJHTB7Q"
      },
      "outputs": [],
      "source": [
        "dt['Temperature']=data['Temperature'].fillna(data['Temperature'].median())\n",
        "dt['Humidity']=data['Humidity'].fillna(data['Humidity'].median())\n",
        "dt['Appliance_Usage']=data['Appliance_Usage'].fillna(data['Appliance_Usage'].median())"
      ]
    },
    {
      "cell_type": "code",
      "execution_count": 39,
      "metadata": {
        "colab": {
          "base_uri": "https://localhost:8080/",
          "height": 429
        },
        "id": "D1PYcwQUT5w_",
        "outputId": "b9fd7de0-dabd-43f9-f9bd-744bf08c0932"
      },
      "outputs": [
        {
          "data": {
            "text/plain": [
              "Residents                   0\n",
              "Apartment_Type              0\n",
              "Temperature                 0\n",
              "Humidity                    0\n",
              "Water_Price                 0\n",
              "Period_Consumption_Index    0\n",
              "Income_Level                0\n",
              "Guests                      0\n",
              "Amenities                   0\n",
              "Appliance_Usage             0\n",
              "Water_Consumption           0\n",
              "dtype: int64"
            ]
          },
          "execution_count": 39,
          "metadata": {},
          "output_type": "execute_result"
        }
      ],
      "source": [
        "dt.isna().sum()"
      ]
    },
    {
      "cell_type": "code",
      "execution_count": 40,
      "metadata": {
        "colab": {
          "base_uri": "https://localhost:8080/",
          "height": 429
        },
        "id": "aNZn8eQtX2uP",
        "outputId": "200d4920-4516-4beb-83ab-ac2afce1f770"
      },
      "outputs": [
        {
          "data": {
            "text/plain": [
              "Residents                     0\n",
              "Apartment_Type                0\n",
              "Temperature                 441\n",
              "Humidity                    397\n",
              "Water_Price                   0\n",
              "Period_Consumption_Index      0\n",
              "Income_Level                  0\n",
              "Guests                        0\n",
              "Amenities                     0\n",
              "Appliance_Usage             415\n",
              "Water_Consumption             0\n",
              "dtype: int64"
            ]
          },
          "execution_count": 40,
          "metadata": {},
          "output_type": "execute_result"
        }
      ],
      "source": [
        "data.isna().sum()"
      ]
    },
    {
      "cell_type": "code",
      "execution_count": 41,
      "metadata": {
        "colab": {
          "base_uri": "https://localhost:8080/",
          "height": 1000,
          "referenced_widgets": [
            "5b86dba7a33d415ca1309e645cfc929b",
            "5c73b23076fd4adf9f1a03af216b7d9e",
            "07264c78a0114b5da9dfc33eb2d5adae",
            "f6f7b4a45d79452695661137915abe6c",
            "3ce585e263cc4d2f99c4b7ee215f161a",
            "cb59a309133c4a80ab2114507accba6f",
            "d578ebf5187749a4bbbee53e1926fe94",
            "6775bd13b07647cc897c706efb539ddc",
            "fe5d1c6d0c894ff1a056f1e512209cb2",
            "369a71cd17da42eb9c5e24d93c18583e",
            "20c2ee5f514546abb4cec245bf90e3cd"
          ]
        },
        "id": "Oz0XIVjqTB9u",
        "outputId": "e72cdb21-71b2-4243-ebe8-a4f3a35639fc"
      },
      "outputs": [
        {
          "data": {
            "text/html": [
              "<style type=\"text/css\">\n",
              "#T_ec401_row8_col1, #T_ec401_row12_col1, #T_ec401_row14_col1 {\n",
              "  background-color: lightgreen;\n",
              "}\n",
              "</style>\n",
              "<table id=\"T_ec401\">\n",
              "  <thead>\n",
              "    <tr>\n",
              "      <th class=\"blank level0\" >&nbsp;</th>\n",
              "      <th id=\"T_ec401_level0_col0\" class=\"col_heading level0 col0\" >Description</th>\n",
              "      <th id=\"T_ec401_level0_col1\" class=\"col_heading level0 col1\" >Value</th>\n",
              "    </tr>\n",
              "  </thead>\n",
              "  <tbody>\n",
              "    <tr>\n",
              "      <th id=\"T_ec401_level0_row0\" class=\"row_heading level0 row0\" >0</th>\n",
              "      <td id=\"T_ec401_row0_col0\" class=\"data row0 col0\" >Session id</td>\n",
              "      <td id=\"T_ec401_row0_col1\" class=\"data row0 col1\" >42</td>\n",
              "    </tr>\n",
              "    <tr>\n",
              "      <th id=\"T_ec401_level0_row1\" class=\"row_heading level0 row1\" >1</th>\n",
              "      <td id=\"T_ec401_row1_col0\" class=\"data row1 col0\" >Target</td>\n",
              "      <td id=\"T_ec401_row1_col1\" class=\"data row1 col1\" >Water_Consumption</td>\n",
              "    </tr>\n",
              "    <tr>\n",
              "      <th id=\"T_ec401_level0_row2\" class=\"row_heading level0 row2\" >2</th>\n",
              "      <td id=\"T_ec401_row2_col0\" class=\"data row2 col0\" >Target type</td>\n",
              "      <td id=\"T_ec401_row2_col1\" class=\"data row2 col1\" >Regression</td>\n",
              "    </tr>\n",
              "    <tr>\n",
              "      <th id=\"T_ec401_level0_row3\" class=\"row_heading level0 row3\" >3</th>\n",
              "      <td id=\"T_ec401_row3_col0\" class=\"data row3 col0\" >Original data shape</td>\n",
              "      <td id=\"T_ec401_row3_col1\" class=\"data row3 col1\" >(11200, 11)</td>\n",
              "    </tr>\n",
              "    <tr>\n",
              "      <th id=\"T_ec401_level0_row4\" class=\"row_heading level0 row4\" >4</th>\n",
              "      <td id=\"T_ec401_row4_col0\" class=\"data row4 col0\" >Transformed data shape</td>\n",
              "      <td id=\"T_ec401_row4_col1\" class=\"data row4 col1\" >(11200, 11)</td>\n",
              "    </tr>\n",
              "    <tr>\n",
              "      <th id=\"T_ec401_level0_row5\" class=\"row_heading level0 row5\" >5</th>\n",
              "      <td id=\"T_ec401_row5_col0\" class=\"data row5 col0\" >Transformed train set shape</td>\n",
              "      <td id=\"T_ec401_row5_col1\" class=\"data row5 col1\" >(8960, 11)</td>\n",
              "    </tr>\n",
              "    <tr>\n",
              "      <th id=\"T_ec401_level0_row6\" class=\"row_heading level0 row6\" >6</th>\n",
              "      <td id=\"T_ec401_row6_col0\" class=\"data row6 col0\" >Transformed test set shape</td>\n",
              "      <td id=\"T_ec401_row6_col1\" class=\"data row6 col1\" >(2240, 11)</td>\n",
              "    </tr>\n",
              "    <tr>\n",
              "      <th id=\"T_ec401_level0_row7\" class=\"row_heading level0 row7\" >7</th>\n",
              "      <td id=\"T_ec401_row7_col0\" class=\"data row7 col0\" >Numeric features</td>\n",
              "      <td id=\"T_ec401_row7_col1\" class=\"data row7 col1\" >10</td>\n",
              "    </tr>\n",
              "    <tr>\n",
              "      <th id=\"T_ec401_level0_row8\" class=\"row_heading level0 row8\" >8</th>\n",
              "      <td id=\"T_ec401_row8_col0\" class=\"data row8 col0\" >Preprocess</td>\n",
              "      <td id=\"T_ec401_row8_col1\" class=\"data row8 col1\" >True</td>\n",
              "    </tr>\n",
              "    <tr>\n",
              "      <th id=\"T_ec401_level0_row9\" class=\"row_heading level0 row9\" >9</th>\n",
              "      <td id=\"T_ec401_row9_col0\" class=\"data row9 col0\" >Imputation type</td>\n",
              "      <td id=\"T_ec401_row9_col1\" class=\"data row9 col1\" >simple</td>\n",
              "    </tr>\n",
              "    <tr>\n",
              "      <th id=\"T_ec401_level0_row10\" class=\"row_heading level0 row10\" >10</th>\n",
              "      <td id=\"T_ec401_row10_col0\" class=\"data row10 col0\" >Numeric imputation</td>\n",
              "      <td id=\"T_ec401_row10_col1\" class=\"data row10 col1\" >mean</td>\n",
              "    </tr>\n",
              "    <tr>\n",
              "      <th id=\"T_ec401_level0_row11\" class=\"row_heading level0 row11\" >11</th>\n",
              "      <td id=\"T_ec401_row11_col0\" class=\"data row11 col0\" >Categorical imputation</td>\n",
              "      <td id=\"T_ec401_row11_col1\" class=\"data row11 col1\" >mode</td>\n",
              "    </tr>\n",
              "    <tr>\n",
              "      <th id=\"T_ec401_level0_row12\" class=\"row_heading level0 row12\" >12</th>\n",
              "      <td id=\"T_ec401_row12_col0\" class=\"data row12 col0\" >Remove multicollinearity</td>\n",
              "      <td id=\"T_ec401_row12_col1\" class=\"data row12 col1\" >True</td>\n",
              "    </tr>\n",
              "    <tr>\n",
              "      <th id=\"T_ec401_level0_row13\" class=\"row_heading level0 row13\" >13</th>\n",
              "      <td id=\"T_ec401_row13_col0\" class=\"data row13 col0\" >Multicollinearity threshold</td>\n",
              "      <td id=\"T_ec401_row13_col1\" class=\"data row13 col1\" >0.900000</td>\n",
              "    </tr>\n",
              "    <tr>\n",
              "      <th id=\"T_ec401_level0_row14\" class=\"row_heading level0 row14\" >14</th>\n",
              "      <td id=\"T_ec401_row14_col0\" class=\"data row14 col0\" >Normalize</td>\n",
              "      <td id=\"T_ec401_row14_col1\" class=\"data row14 col1\" >True</td>\n",
              "    </tr>\n",
              "    <tr>\n",
              "      <th id=\"T_ec401_level0_row15\" class=\"row_heading level0 row15\" >15</th>\n",
              "      <td id=\"T_ec401_row15_col0\" class=\"data row15 col0\" >Normalize method</td>\n",
              "      <td id=\"T_ec401_row15_col1\" class=\"data row15 col1\" >zscore</td>\n",
              "    </tr>\n",
              "    <tr>\n",
              "      <th id=\"T_ec401_level0_row16\" class=\"row_heading level0 row16\" >16</th>\n",
              "      <td id=\"T_ec401_row16_col0\" class=\"data row16 col0\" >Fold Generator</td>\n",
              "      <td id=\"T_ec401_row16_col1\" class=\"data row16 col1\" >KFold</td>\n",
              "    </tr>\n",
              "    <tr>\n",
              "      <th id=\"T_ec401_level0_row17\" class=\"row_heading level0 row17\" >17</th>\n",
              "      <td id=\"T_ec401_row17_col0\" class=\"data row17 col0\" >Fold Number</td>\n",
              "      <td id=\"T_ec401_row17_col1\" class=\"data row17 col1\" >10</td>\n",
              "    </tr>\n",
              "    <tr>\n",
              "      <th id=\"T_ec401_level0_row18\" class=\"row_heading level0 row18\" >18</th>\n",
              "      <td id=\"T_ec401_row18_col0\" class=\"data row18 col0\" >CPU Jobs</td>\n",
              "      <td id=\"T_ec401_row18_col1\" class=\"data row18 col1\" >-1</td>\n",
              "    </tr>\n",
              "    <tr>\n",
              "      <th id=\"T_ec401_level0_row19\" class=\"row_heading level0 row19\" >19</th>\n",
              "      <td id=\"T_ec401_row19_col0\" class=\"data row19 col0\" >Use GPU</td>\n",
              "      <td id=\"T_ec401_row19_col1\" class=\"data row19 col1\" >False</td>\n",
              "    </tr>\n",
              "    <tr>\n",
              "      <th id=\"T_ec401_level0_row20\" class=\"row_heading level0 row20\" >20</th>\n",
              "      <td id=\"T_ec401_row20_col0\" class=\"data row20 col0\" >Log Experiment</td>\n",
              "      <td id=\"T_ec401_row20_col1\" class=\"data row20 col1\" >False</td>\n",
              "    </tr>\n",
              "    <tr>\n",
              "      <th id=\"T_ec401_level0_row21\" class=\"row_heading level0 row21\" >21</th>\n",
              "      <td id=\"T_ec401_row21_col0\" class=\"data row21 col0\" >Experiment Name</td>\n",
              "      <td id=\"T_ec401_row21_col1\" class=\"data row21 col1\" >reg-default-name</td>\n",
              "    </tr>\n",
              "    <tr>\n",
              "      <th id=\"T_ec401_level0_row22\" class=\"row_heading level0 row22\" >22</th>\n",
              "      <td id=\"T_ec401_row22_col0\" class=\"data row22 col0\" >USI</td>\n",
              "      <td id=\"T_ec401_row22_col1\" class=\"data row22 col1\" >776d</td>\n",
              "    </tr>\n",
              "  </tbody>\n",
              "</table>\n"
            ],
            "text/plain": [
              "<pandas.io.formats.style.Styler at 0x16548db5990>"
            ]
          },
          "metadata": {},
          "output_type": "display_data"
        },
        {
          "data": {
            "text/html": [],
            "text/plain": [
              "<IPython.core.display.HTML object>"
            ]
          },
          "metadata": {},
          "output_type": "display_data"
        },
        {
          "data": {
            "text/html": [
              "<style type=\"text/css\">\n",
              "#T_e7158 th {\n",
              "  text-align: left;\n",
              "}\n",
              "#T_e7158_row0_col0, #T_e7158_row1_col0, #T_e7158_row1_col1, #T_e7158_row1_col2, #T_e7158_row1_col3, #T_e7158_row1_col4, #T_e7158_row1_col5, #T_e7158_row1_col6, #T_e7158_row2_col0, #T_e7158_row2_col1, #T_e7158_row2_col2, #T_e7158_row2_col3, #T_e7158_row2_col4, #T_e7158_row2_col5, #T_e7158_row2_col6, #T_e7158_row3_col0, #T_e7158_row3_col1, #T_e7158_row3_col2, #T_e7158_row3_col3, #T_e7158_row3_col4, #T_e7158_row3_col5, #T_e7158_row3_col6, #T_e7158_row4_col0, #T_e7158_row4_col1, #T_e7158_row4_col2, #T_e7158_row4_col3, #T_e7158_row4_col4, #T_e7158_row4_col5, #T_e7158_row4_col6, #T_e7158_row5_col0, #T_e7158_row5_col1, #T_e7158_row5_col2, #T_e7158_row5_col3, #T_e7158_row5_col4, #T_e7158_row5_col5, #T_e7158_row5_col6, #T_e7158_row6_col0, #T_e7158_row6_col1, #T_e7158_row6_col2, #T_e7158_row6_col3, #T_e7158_row6_col4, #T_e7158_row6_col5, #T_e7158_row6_col6, #T_e7158_row7_col0, #T_e7158_row7_col1, #T_e7158_row7_col2, #T_e7158_row7_col3, #T_e7158_row7_col4, #T_e7158_row7_col5, #T_e7158_row7_col6, #T_e7158_row8_col0, #T_e7158_row8_col1, #T_e7158_row8_col2, #T_e7158_row8_col3, #T_e7158_row8_col4, #T_e7158_row8_col5, #T_e7158_row8_col6, #T_e7158_row9_col0, #T_e7158_row9_col1, #T_e7158_row9_col2, #T_e7158_row9_col3, #T_e7158_row9_col4, #T_e7158_row9_col5, #T_e7158_row9_col6, #T_e7158_row10_col0, #T_e7158_row10_col1, #T_e7158_row10_col2, #T_e7158_row10_col3, #T_e7158_row10_col4, #T_e7158_row10_col5, #T_e7158_row10_col6, #T_e7158_row11_col0, #T_e7158_row11_col1, #T_e7158_row11_col2, #T_e7158_row11_col3, #T_e7158_row11_col4, #T_e7158_row11_col5, #T_e7158_row11_col6, #T_e7158_row12_col0, #T_e7158_row12_col1, #T_e7158_row12_col2, #T_e7158_row12_col3, #T_e7158_row12_col4, #T_e7158_row12_col5, #T_e7158_row12_col6, #T_e7158_row13_col0, #T_e7158_row13_col1, #T_e7158_row13_col2, #T_e7158_row13_col3, #T_e7158_row13_col4, #T_e7158_row13_col5, #T_e7158_row13_col6, #T_e7158_row14_col0, #T_e7158_row14_col1, #T_e7158_row14_col2, #T_e7158_row14_col3, #T_e7158_row14_col4, #T_e7158_row14_col5, #T_e7158_row14_col6, #T_e7158_row15_col0, #T_e7158_row15_col1, #T_e7158_row15_col2, #T_e7158_row15_col3, #T_e7158_row15_col4, #T_e7158_row15_col5, #T_e7158_row15_col6, #T_e7158_row16_col0, #T_e7158_row16_col1, #T_e7158_row16_col2, #T_e7158_row16_col3, #T_e7158_row16_col4, #T_e7158_row16_col5, #T_e7158_row16_col6, #T_e7158_row17_col0, #T_e7158_row17_col1, #T_e7158_row17_col2, #T_e7158_row17_col3, #T_e7158_row17_col4, #T_e7158_row17_col5, #T_e7158_row17_col6 {\n",
              "  text-align: left;\n",
              "}\n",
              "#T_e7158_row0_col1, #T_e7158_row0_col2, #T_e7158_row0_col3, #T_e7158_row0_col4, #T_e7158_row0_col5, #T_e7158_row0_col6 {\n",
              "  text-align: left;\n",
              "  background-color: yellow;\n",
              "}\n",
              "#T_e7158_row0_col7, #T_e7158_row1_col7, #T_e7158_row2_col7, #T_e7158_row3_col7, #T_e7158_row4_col7, #T_e7158_row5_col7, #T_e7158_row6_col7, #T_e7158_row7_col7, #T_e7158_row8_col7, #T_e7158_row9_col7, #T_e7158_row10_col7, #T_e7158_row11_col7, #T_e7158_row12_col7, #T_e7158_row13_col7, #T_e7158_row14_col7, #T_e7158_row15_col7, #T_e7158_row16_col7 {\n",
              "  text-align: left;\n",
              "  background-color: lightgrey;\n",
              "}\n",
              "#T_e7158_row17_col7 {\n",
              "  text-align: left;\n",
              "  background-color: yellow;\n",
              "  background-color: lightgrey;\n",
              "}\n",
              "</style>\n",
              "<table id=\"T_e7158\">\n",
              "  <thead>\n",
              "    <tr>\n",
              "      <th class=\"blank level0\" >&nbsp;</th>\n",
              "      <th id=\"T_e7158_level0_col0\" class=\"col_heading level0 col0\" >Model</th>\n",
              "      <th id=\"T_e7158_level0_col1\" class=\"col_heading level0 col1\" >MAE</th>\n",
              "      <th id=\"T_e7158_level0_col2\" class=\"col_heading level0 col2\" >MSE</th>\n",
              "      <th id=\"T_e7158_level0_col3\" class=\"col_heading level0 col3\" >RMSE</th>\n",
              "      <th id=\"T_e7158_level0_col4\" class=\"col_heading level0 col4\" >R2</th>\n",
              "      <th id=\"T_e7158_level0_col5\" class=\"col_heading level0 col5\" >RMSLE</th>\n",
              "      <th id=\"T_e7158_level0_col6\" class=\"col_heading level0 col6\" >MAPE</th>\n",
              "      <th id=\"T_e7158_level0_col7\" class=\"col_heading level0 col7\" >TT (Sec)</th>\n",
              "    </tr>\n",
              "  </thead>\n",
              "  <tbody>\n",
              "    <tr>\n",
              "      <th id=\"T_e7158_level0_row0\" class=\"row_heading level0 row0\" >lightgbm</th>\n",
              "      <td id=\"T_e7158_row0_col0\" class=\"data row0 col0\" >Light Gradient Boosting Machine</td>\n",
              "      <td id=\"T_e7158_row0_col1\" class=\"data row0 col1\" >7.2493</td>\n",
              "      <td id=\"T_e7158_row0_col2\" class=\"data row0 col2\" >150.6505</td>\n",
              "      <td id=\"T_e7158_row0_col3\" class=\"data row0 col3\" >12.2359</td>\n",
              "      <td id=\"T_e7158_row0_col4\" class=\"data row0 col4\" >0.9712</td>\n",
              "      <td id=\"T_e7158_row0_col5\" class=\"data row0 col5\" >0.0657</td>\n",
              "      <td id=\"T_e7158_row0_col6\" class=\"data row0 col6\" >0.0436</td>\n",
              "      <td id=\"T_e7158_row0_col7\" class=\"data row0 col7\" >0.1520</td>\n",
              "    </tr>\n",
              "    <tr>\n",
              "      <th id=\"T_e7158_level0_row1\" class=\"row_heading level0 row1\" >gbr</th>\n",
              "      <td id=\"T_e7158_row1_col0\" class=\"data row1 col0\" >Gradient Boosting Regressor</td>\n",
              "      <td id=\"T_e7158_row1_col1\" class=\"data row1 col1\" >10.5004</td>\n",
              "      <td id=\"T_e7158_row1_col2\" class=\"data row1 col2\" >262.1792</td>\n",
              "      <td id=\"T_e7158_row1_col3\" class=\"data row1 col3\" >16.1541</td>\n",
              "      <td id=\"T_e7158_row1_col4\" class=\"data row1 col4\" >0.9500</td>\n",
              "      <td id=\"T_e7158_row1_col5\" class=\"data row1 col5\" >0.0885</td>\n",
              "      <td id=\"T_e7158_row1_col6\" class=\"data row1 col6\" >0.0643</td>\n",
              "      <td id=\"T_e7158_row1_col7\" class=\"data row1 col7\" >0.1610</td>\n",
              "    </tr>\n",
              "    <tr>\n",
              "      <th id=\"T_e7158_level0_row2\" class=\"row_heading level0 row2\" >et</th>\n",
              "      <td id=\"T_e7158_row2_col0\" class=\"data row2 col0\" >Extra Trees Regressor</td>\n",
              "      <td id=\"T_e7158_row2_col1\" class=\"data row2 col1\" >11.9697</td>\n",
              "      <td id=\"T_e7158_row2_col2\" class=\"data row2 col2\" >347.4899</td>\n",
              "      <td id=\"T_e7158_row2_col3\" class=\"data row2 col3\" >18.6034</td>\n",
              "      <td id=\"T_e7158_row2_col4\" class=\"data row2 col4\" >0.9337</td>\n",
              "      <td id=\"T_e7158_row2_col5\" class=\"data row2 col5\" >0.0997</td>\n",
              "      <td id=\"T_e7158_row2_col6\" class=\"data row2 col6\" >0.0722</td>\n",
              "      <td id=\"T_e7158_row2_col7\" class=\"data row2 col7\" >0.2650</td>\n",
              "    </tr>\n",
              "    <tr>\n",
              "      <th id=\"T_e7158_level0_row3\" class=\"row_heading level0 row3\" >rf</th>\n",
              "      <td id=\"T_e7158_row3_col0\" class=\"data row3 col0\" >Random Forest Regressor</td>\n",
              "      <td id=\"T_e7158_row3_col1\" class=\"data row3 col1\" >13.5873</td>\n",
              "      <td id=\"T_e7158_row3_col2\" class=\"data row3 col2\" >417.0273</td>\n",
              "      <td id=\"T_e7158_row3_col3\" class=\"data row3 col3\" >20.3901</td>\n",
              "      <td id=\"T_e7158_row3_col4\" class=\"data row3 col4\" >0.9203</td>\n",
              "      <td id=\"T_e7158_row3_col5\" class=\"data row3 col5\" >0.1074</td>\n",
              "      <td id=\"T_e7158_row3_col6\" class=\"data row3 col6\" >0.0810</td>\n",
              "      <td id=\"T_e7158_row3_col7\" class=\"data row3 col7\" >0.4720</td>\n",
              "    </tr>\n",
              "    <tr>\n",
              "      <th id=\"T_e7158_level0_row4\" class=\"row_heading level0 row4\" >dt</th>\n",
              "      <td id=\"T_e7158_row4_col0\" class=\"data row4 col0\" >Decision Tree Regressor</td>\n",
              "      <td id=\"T_e7158_row4_col1\" class=\"data row4 col1\" >21.4878</td>\n",
              "      <td id=\"T_e7158_row4_col2\" class=\"data row4 col2\" >1046.8666</td>\n",
              "      <td id=\"T_e7158_row4_col3\" class=\"data row4 col3\" >32.3410</td>\n",
              "      <td id=\"T_e7158_row4_col4\" class=\"data row4 col4\" >0.7996</td>\n",
              "      <td id=\"T_e7158_row4_col5\" class=\"data row4 col5\" >0.1701</td>\n",
              "      <td id=\"T_e7158_row4_col6\" class=\"data row4 col6\" >0.1271</td>\n",
              "      <td id=\"T_e7158_row4_col7\" class=\"data row4 col7\" >0.0180</td>\n",
              "    </tr>\n",
              "    <tr>\n",
              "      <th id=\"T_e7158_level0_row5\" class=\"row_heading level0 row5\" >knn</th>\n",
              "      <td id=\"T_e7158_row5_col0\" class=\"data row5 col0\" >K Neighbors Regressor</td>\n",
              "      <td id=\"T_e7158_row5_col1\" class=\"data row5 col1\" >26.0479</td>\n",
              "      <td id=\"T_e7158_row5_col2\" class=\"data row5 col2\" >1375.5635</td>\n",
              "      <td id=\"T_e7158_row5_col3\" class=\"data row5 col3\" >37.0427</td>\n",
              "      <td id=\"T_e7158_row5_col4\" class=\"data row5 col4\" >0.7373</td>\n",
              "      <td id=\"T_e7158_row5_col5\" class=\"data row5 col5\" >0.2067</td>\n",
              "      <td id=\"T_e7158_row5_col6\" class=\"data row5 col6\" >0.1634</td>\n",
              "      <td id=\"T_e7158_row5_col7\" class=\"data row5 col7\" >0.0490</td>\n",
              "    </tr>\n",
              "    <tr>\n",
              "      <th id=\"T_e7158_level0_row6\" class=\"row_heading level0 row6\" >ada</th>\n",
              "      <td id=\"T_e7158_row6_col0\" class=\"data row6 col0\" >AdaBoost Regressor</td>\n",
              "      <td id=\"T_e7158_row6_col1\" class=\"data row6 col1\" >33.3465</td>\n",
              "      <td id=\"T_e7158_row6_col2\" class=\"data row6 col2\" >1492.5815</td>\n",
              "      <td id=\"T_e7158_row6_col3\" class=\"data row6 col3\" >38.6199</td>\n",
              "      <td id=\"T_e7158_row6_col4\" class=\"data row6 col4\" >0.7135</td>\n",
              "      <td id=\"T_e7158_row6_col5\" class=\"data row6 col5\" >0.2835</td>\n",
              "      <td id=\"T_e7158_row6_col6\" class=\"data row6 col6\" >0.2743</td>\n",
              "      <td id=\"T_e7158_row6_col7\" class=\"data row6 col7\" >0.0810</td>\n",
              "    </tr>\n",
              "    <tr>\n",
              "      <th id=\"T_e7158_level0_row7\" class=\"row_heading level0 row7\" >omp</th>\n",
              "      <td id=\"T_e7158_row7_col0\" class=\"data row7 col0\" >Orthogonal Matching Pursuit</td>\n",
              "      <td id=\"T_e7158_row7_col1\" class=\"data row7 col1\" >48.0957</td>\n",
              "      <td id=\"T_e7158_row7_col2\" class=\"data row7 col2\" >3992.1381</td>\n",
              "      <td id=\"T_e7158_row7_col3\" class=\"data row7 col3\" >63.1366</td>\n",
              "      <td id=\"T_e7158_row7_col4\" class=\"data row7 col4\" >0.2371</td>\n",
              "      <td id=\"T_e7158_row7_col5\" class=\"data row7 col5\" >0.3714</td>\n",
              "      <td id=\"T_e7158_row7_col6\" class=\"data row7 col6\" >0.3352</td>\n",
              "      <td id=\"T_e7158_row7_col7\" class=\"data row7 col7\" >0.0110</td>\n",
              "    </tr>\n",
              "    <tr>\n",
              "      <th id=\"T_e7158_level0_row8\" class=\"row_heading level0 row8\" >dummy</th>\n",
              "      <td id=\"T_e7158_row8_col0\" class=\"data row8 col0\" >Dummy Regressor</td>\n",
              "      <td id=\"T_e7158_row8_col1\" class=\"data row8 col1\" >57.6332</td>\n",
              "      <td id=\"T_e7158_row8_col2\" class=\"data row8 col2\" >5239.9009</td>\n",
              "      <td id=\"T_e7158_row8_col3\" class=\"data row8 col3\" >72.3488</td>\n",
              "      <td id=\"T_e7158_row8_col4\" class=\"data row8 col4\" >-0.0018</td>\n",
              "      <td id=\"T_e7158_row8_col5\" class=\"data row8 col5\" >0.4500</td>\n",
              "      <td id=\"T_e7158_row8_col6\" class=\"data row8 col6\" >0.4338</td>\n",
              "      <td id=\"T_e7158_row8_col7\" class=\"data row8 col7\" >0.0100</td>\n",
              "    </tr>\n",
              "    <tr>\n",
              "      <th id=\"T_e7158_level0_row9\" class=\"row_heading level0 row9\" >en</th>\n",
              "      <td id=\"T_e7158_row9_col0\" class=\"data row9 col0\" >Elastic Net</td>\n",
              "      <td id=\"T_e7158_row9_col1\" class=\"data row9 col1\" >50.2002</td>\n",
              "      <td id=\"T_e7158_row9_col2\" class=\"data row9 col2\" >401974.0122</td>\n",
              "      <td id=\"T_e7158_row9_col3\" class=\"data row9 col3\" >250.4959</td>\n",
              "      <td id=\"T_e7158_row9_col4\" class=\"data row9 col4\" >-72.5815</td>\n",
              "      <td id=\"T_e7158_row9_col5\" class=\"data row9 col5\" >0.3426</td>\n",
              "      <td id=\"T_e7158_row9_col6\" class=\"data row9 col6\" >0.3324</td>\n",
              "      <td id=\"T_e7158_row9_col7\" class=\"data row9 col7\" >0.0120</td>\n",
              "    </tr>\n",
              "    <tr>\n",
              "      <th id=\"T_e7158_level0_row10\" class=\"row_heading level0 row10\" >par</th>\n",
              "      <td id=\"T_e7158_row10_col0\" class=\"data row10 col0\" >Passive Aggressive Regressor</td>\n",
              "      <td id=\"T_e7158_row10_col1\" class=\"data row10 col1\" >49.0978</td>\n",
              "      <td id=\"T_e7158_row10_col2\" class=\"data row10 col2\" >604669.7544</td>\n",
              "      <td id=\"T_e7158_row10_col3\" class=\"data row10 col3\" >297.6618</td>\n",
              "      <td id=\"T_e7158_row10_col4\" class=\"data row10 col4\" >-109.6733</td>\n",
              "      <td id=\"T_e7158_row10_col5\" class=\"data row10 col5\" >0.3760</td>\n",
              "      <td id=\"T_e7158_row10_col6\" class=\"data row10 col6\" >0.2775</td>\n",
              "      <td id=\"T_e7158_row10_col7\" class=\"data row10 col7\" >0.0130</td>\n",
              "    </tr>\n",
              "    <tr>\n",
              "      <th id=\"T_e7158_level0_row11\" class=\"row_heading level0 row11\" >huber</th>\n",
              "      <td id=\"T_e7158_row11_col0\" class=\"data row11 col0\" >Huber Regressor</td>\n",
              "      <td id=\"T_e7158_row11_col1\" class=\"data row11 col1\" >47.8349</td>\n",
              "      <td id=\"T_e7158_row11_col2\" class=\"data row11 col2\" >695490.4251</td>\n",
              "      <td id=\"T_e7158_row11_col3\" class=\"data row11 col3\" >312.3326</td>\n",
              "      <td id=\"T_e7158_row11_col4\" class=\"data row11 col4\" >-126.2893</td>\n",
              "      <td id=\"T_e7158_row11_col5\" class=\"data row11 col5\" >0.3127</td>\n",
              "      <td id=\"T_e7158_row11_col6\" class=\"data row11 col6\" >0.2742</td>\n",
              "      <td id=\"T_e7158_row11_col7\" class=\"data row11 col7\" >0.0130</td>\n",
              "    </tr>\n",
              "    <tr>\n",
              "      <th id=\"T_e7158_level0_row12\" class=\"row_heading level0 row12\" >lasso</th>\n",
              "      <td id=\"T_e7158_row12_col0\" class=\"data row12 col0\" >Lasso Regression</td>\n",
              "      <td id=\"T_e7158_row12_col1\" class=\"data row12 col1\" >49.9447</td>\n",
              "      <td id=\"T_e7158_row12_col2\" class=\"data row12 col2\" >784377.5781</td>\n",
              "      <td id=\"T_e7158_row12_col3\" class=\"data row12 col3\" >328.0567</td>\n",
              "      <td id=\"T_e7158_row12_col4\" class=\"data row12 col4\" >-142.5540</td>\n",
              "      <td id=\"T_e7158_row12_col5\" class=\"data row12 col5\" >0.3200</td>\n",
              "      <td id=\"T_e7158_row12_col6\" class=\"data row12 col6\" >0.3078</td>\n",
              "      <td id=\"T_e7158_row12_col7\" class=\"data row12 col7\" >0.0130</td>\n",
              "    </tr>\n",
              "    <tr>\n",
              "      <th id=\"T_e7158_level0_row13\" class=\"row_heading level0 row13\" >llar</th>\n",
              "      <td id=\"T_e7158_row13_col0\" class=\"data row13 col0\" >Lasso Least Angle Regression</td>\n",
              "      <td id=\"T_e7158_row13_col1\" class=\"data row13 col1\" >49.9447</td>\n",
              "      <td id=\"T_e7158_row13_col2\" class=\"data row13 col2\" >784378.3280</td>\n",
              "      <td id=\"T_e7158_row13_col3\" class=\"data row13 col3\" >328.0568</td>\n",
              "      <td id=\"T_e7158_row13_col4\" class=\"data row13 col4\" >-142.5541</td>\n",
              "      <td id=\"T_e7158_row13_col5\" class=\"data row13 col5\" >0.3200</td>\n",
              "      <td id=\"T_e7158_row13_col6\" class=\"data row13 col6\" >0.3078</td>\n",
              "      <td id=\"T_e7158_row13_col7\" class=\"data row13 col7\" >0.0110</td>\n",
              "    </tr>\n",
              "    <tr>\n",
              "      <th id=\"T_e7158_level0_row14\" class=\"row_heading level0 row14\" >br</th>\n",
              "      <td id=\"T_e7158_row14_col0\" class=\"data row14 col0\" >Bayesian Ridge</td>\n",
              "      <td id=\"T_e7158_row14_col1\" class=\"data row14 col1\" >50.5472</td>\n",
              "      <td id=\"T_e7158_row14_col2\" class=\"data row14 col2\" >909293.7583</td>\n",
              "      <td id=\"T_e7158_row14_col3\" class=\"data row14 col3\" >349.5040</td>\n",
              "      <td id=\"T_e7158_row14_col4\" class=\"data row14 col4\" >-165.4118</td>\n",
              "      <td id=\"T_e7158_row14_col5\" class=\"data row14 col5\" >0.3196</td>\n",
              "      <td id=\"T_e7158_row14_col6\" class=\"data row14 col6\" >0.3077</td>\n",
              "      <td id=\"T_e7158_row14_col7\" class=\"data row14 col7\" >0.0120</td>\n",
              "    </tr>\n",
              "    <tr>\n",
              "      <th id=\"T_e7158_level0_row15\" class=\"row_heading level0 row15\" >ridge</th>\n",
              "      <td id=\"T_e7158_row15_col0\" class=\"data row15 col0\" >Ridge Regression</td>\n",
              "      <td id=\"T_e7158_row15_col1\" class=\"data row15 col1\" >50.5551</td>\n",
              "      <td id=\"T_e7158_row15_col2\" class=\"data row15 col2\" >911428.0337</td>\n",
              "      <td id=\"T_e7158_row15_col3\" class=\"data row15 col3\" >349.8580</td>\n",
              "      <td id=\"T_e7158_row15_col4\" class=\"data row15 col4\" >-165.8024</td>\n",
              "      <td id=\"T_e7158_row15_col5\" class=\"data row15 col5\" >0.3196</td>\n",
              "      <td id=\"T_e7158_row15_col6\" class=\"data row15 col6\" >0.3077</td>\n",
              "      <td id=\"T_e7158_row15_col7\" class=\"data row15 col7\" >0.0110</td>\n",
              "    </tr>\n",
              "    <tr>\n",
              "      <th id=\"T_e7158_level0_row16\" class=\"row_heading level0 row16\" >lar</th>\n",
              "      <td id=\"T_e7158_row16_col0\" class=\"data row16 col0\" >Least Angle Regression</td>\n",
              "      <td id=\"T_e7158_row16_col1\" class=\"data row16 col1\" >50.5559</td>\n",
              "      <td id=\"T_e7158_row16_col2\" class=\"data row16 col2\" >911633.2322</td>\n",
              "      <td id=\"T_e7158_row16_col3\" class=\"data row16 col3\" >349.8920</td>\n",
              "      <td id=\"T_e7158_row16_col4\" class=\"data row16 col4\" >-165.8399</td>\n",
              "      <td id=\"T_e7158_row16_col5\" class=\"data row16 col5\" >0.3196</td>\n",
              "      <td id=\"T_e7158_row16_col6\" class=\"data row16 col6\" >0.3077</td>\n",
              "      <td id=\"T_e7158_row16_col7\" class=\"data row16 col7\" >0.0120</td>\n",
              "    </tr>\n",
              "    <tr>\n",
              "      <th id=\"T_e7158_level0_row17\" class=\"row_heading level0 row17\" >lr</th>\n",
              "      <td id=\"T_e7158_row17_col0\" class=\"data row17 col0\" >Linear Regression</td>\n",
              "      <td id=\"T_e7158_row17_col1\" class=\"data row17 col1\" >50.5559</td>\n",
              "      <td id=\"T_e7158_row17_col2\" class=\"data row17 col2\" >911633.7321</td>\n",
              "      <td id=\"T_e7158_row17_col3\" class=\"data row17 col3\" >349.8921</td>\n",
              "      <td id=\"T_e7158_row17_col4\" class=\"data row17 col4\" >-165.8400</td>\n",
              "      <td id=\"T_e7158_row17_col5\" class=\"data row17 col5\" >0.3196</td>\n",
              "      <td id=\"T_e7158_row17_col6\" class=\"data row17 col6\" >0.3077</td>\n",
              "      <td id=\"T_e7158_row17_col7\" class=\"data row17 col7\" >0.0090</td>\n",
              "    </tr>\n",
              "  </tbody>\n",
              "</table>\n"
            ],
            "text/plain": [
              "<pandas.io.formats.style.Styler at 0x16551598610>"
            ]
          },
          "metadata": {},
          "output_type": "display_data"
        },
        {
          "data": {
            "text/html": [],
            "text/plain": [
              "<IPython.core.display.HTML object>"
            ]
          },
          "metadata": {},
          "output_type": "display_data"
        },
        {
          "name": "stdout",
          "output_type": "stream",
          "text": [
            "Best Model: LGBMRegressor(n_jobs=-1, random_state=42)\n"
          ]
        }
      ],
      "source": [
        "X=dt.drop('Water_Consumption',axis=1)\n",
        "y=dt['Water_Consumption']\n",
        "X_train, X_test, y_train, y_test = train_test_split(X, y, test_size=0.2, random_state=42)\n",
        "\n",
        "\n",
        "reg_setup = setup(data=pd.concat([X_train, y_train], axis=1),\n",
        "                  target='Water_Consumption',\n",
        "                  remove_multicollinearity=True,\n",
        "                  train_size=0.8,\n",
        "                  normalize=True,\n",
        "                  verbose=True,\n",
        "                  session_id=42)\n",
        "\n",
        "best_model = compare_models(sort='RMSE')\n",
        "print(f\"Best Model: {best_model}\")"
      ]
    },
    {
      "cell_type": "code",
      "execution_count": 42,
      "metadata": {
        "colab": {
          "base_uri": "https://localhost:8080/",
          "height": 86
        },
        "id": "peFqT-xXTCAY",
        "outputId": "37c95cb8-8004-46d4-87c3-eeaeeb87c257"
      },
      "outputs": [
        {
          "data": {
            "text/html": [],
            "text/plain": [
              "<IPython.core.display.HTML object>"
            ]
          },
          "metadata": {},
          "output_type": "display_data"
        },
        {
          "name": "stdout",
          "output_type": "stream",
          "text": [
            "X_test shape: (2800, 10)\n",
            "Predictions shape: (2800, 11)\n",
            "Final RMSE: 11.59\n",
            "Custom Score: 88.41\n"
          ]
        }
      ],
      "source": [
        "final_model = finalize_model(best_model)\n",
        "predictions = predict_model(final_model, data=X_test)\n",
        "\n",
        "\n",
        "print(f\"X_test shape: {X_test.shape}\")\n",
        "print(f\"Predictions shape: {predictions.shape}\")\n",
        "\n",
        "\n",
        "y_pred = predictions.iloc[:len(X_test)]['prediction_label']\n",
        "\n",
        "\n",
        "rmse_score = np.sqrt(mean_squared_error(y_test, y_pred))\n",
        "custom_score = max(0, 100 - rmse_score)\n",
        "\n",
        "print(f\"Final RMSE: {rmse_score:.2f}\")\n",
        "print(f\"Custom Score: {custom_score:.2f}\")\n"
      ]
    },
    {
      "cell_type": "code",
      "execution_count": 43,
      "metadata": {
        "colab": {
          "base_uri": "https://localhost:8080/",
          "height": 429
        },
        "id": "p8iE80uoZOSo",
        "outputId": "6c1e439c-2969-4864-b67d-fa28ac0bfddf"
      },
      "outputs": [
        {
          "data": {
            "text/plain": [
              "Residents                     0\n",
              "Apartment_Type                0\n",
              "Temperature                 441\n",
              "Humidity                    397\n",
              "Water_Price                   0\n",
              "Period_Consumption_Index      0\n",
              "Income_Level                  0\n",
              "Guests                        0\n",
              "Amenities                     0\n",
              "Appliance_Usage             415\n",
              "Water_Consumption             0\n",
              "dtype: int64"
            ]
          },
          "execution_count": 43,
          "metadata": {},
          "output_type": "execute_result"
        }
      ],
      "source": [
        "data.isna().sum()"
      ]
    },
    {
      "cell_type": "code",
      "execution_count": 44,
      "metadata": {
        "colab": {
          "base_uri": "https://localhost:8080/"
        },
        "id": "2Jxs8cNLTCDA",
        "outputId": "aceb274b-b4e1-40a4-9474-07dda6adebbb"
      },
      "outputs": [
        {
          "name": "stdout",
          "output_type": "stream",
          "text": [
            "[LightGBM] [Info] Auto-choosing row-wise multi-threading, the overhead of testing was 0.000493 seconds.\n",
            "You can set `force_row_wise=true` to remove the overhead.\n",
            "And if memory is not enough, you can set `force_col_wise=true`.\n",
            "[LightGBM] [Info] Total Bins 1007\n",
            "[LightGBM] [Info] Number of data points in the train set: 11200, number of used features: 10\n",
            "[LightGBM] [Info] Start training from score 164.187287\n",
            "Final RMSE: 11.59\n",
            "Custom Score: 88.41\n"
          ]
        }
      ],
      "source": [
        "X1=data.drop('Water_Consumption',axis=1)\n",
        "y1=data['Water_Consumption']\n",
        "X_train, X_test, y_train, y_test = train_test_split(X1, y1, test_size=0.2, random_state=42)\n",
        "\n",
        "\n",
        "\n",
        "\n",
        "from lightgbm import LGBMRegressor\n",
        "from sklearn.metrics import mean_squared_error\n",
        "\n",
        "# ... (Your data loading and preprocessing code) ...\n",
        "\n",
        "# 1. Create and train the model\n",
        "model = LGBMRegressor(n_estimators=100, learning_rate=0.1, random_state=42)\n",
        "model.fit(X_train, y_train)\n",
        "\n",
        "# 2. Make predictions\n",
        "y_pred1 = model.predict(X_test)\n",
        "\n",
        "# 3. Evaluate the model\n",
        "rmse_score = np.sqrt(mean_squared_error(y_test, y_pred1))\n",
        "custom_score = max(0, 100 - rmse_score)\n",
        "\n",
        "print(f\"Final RMSE: {rmse_score:.2f}\")\n",
        "print(f\"Custom Score: {custom_score:.2f}\")"
      ]
    },
    {
      "cell_type": "code",
      "execution_count": 45,
      "metadata": {
        "colab": {
          "base_uri": "https://localhost:8080/"
        },
        "id": "UhQMmsO0V0qo",
        "outputId": "3e3212e0-53ce-466b-8e44-3c39d998770e"
      },
      "outputs": [
        {
          "name": "stdout",
          "output_type": "stream",
          "text": [
            "[LightGBM] [Info] Auto-choosing row-wise multi-threading, the overhead of testing was 0.000495 seconds.\n",
            "You can set `force_row_wise=true` to remove the overhead.\n",
            "And if memory is not enough, you can set `force_col_wise=true`.\n",
            "[LightGBM] [Info] Total Bins 1006\n",
            "[LightGBM] [Info] Number of data points in the train set: 11200, number of used features: 10\n",
            "[LightGBM] [Info] Start training from score 164.187287\n",
            "Final RMSE: 11.54\n",
            "Custom Score: 88.46\n"
          ]
        }
      ],
      "source": [
        "X2=dt.drop('Water_Consumption',axis=1)\n",
        "y2=dt['Water_Consumption']\n",
        "X_train, X_test, y_train, y_test = train_test_split(X2, y2, test_size=0.2, random_state=42)\n",
        "\n",
        "from lightgbm import LGBMRegressor\n",
        "from sklearn.metrics import mean_squared_error\n",
        "\n",
        "# ... (Your data loading and preprocessing code) ...\n",
        "\n",
        "# 1. Create and train the model\n",
        "model = LGBMRegressor(n_estimators=100, learning_rate=0.1, random_state=42)\n",
        "model.fit(X_train, y_train)\n",
        "\n",
        "# 2. Make predictions\n",
        "y_pred2 = model.predict(X_test)\n",
        "\n",
        "# 3. Evaluate the model\n",
        "rmse_score = np.sqrt(mean_squared_error(y_test, y_pred2))\n",
        "custom_score = max(0, 100 - rmse_score)\n",
        "\n",
        "print(f\"Final RMSE: {rmse_score:.2f}\")\n",
        "print(f\"Custom Score: {custom_score:.2f}\")"
      ]
    },
    {
      "cell_type": "code",
      "execution_count": 46,
      "metadata": {
        "id": "Mzw7sJJDCSnW"
      },
      "outputs": [],
      "source": [
        "import joblib\n",
        "joblib.dump(model, 'model.pkl')\n",
        "\n",
        "# Load the model\n",
        "loaded_model = joblib.load('model.pkl')"
      ]
    },
    {
      "cell_type": "code",
      "execution_count": 47,
      "metadata": {
        "id": "LcISzV9HV0tQ"
      },
      "outputs": [],
      "source": [
        "df=pd.read_csv(r'Z:\\projects\\smart water system\\dataset\\test.csv')"
      ]
    },
    {
      "cell_type": "code",
      "execution_count": 48,
      "metadata": {
        "colab": {
          "base_uri": "https://localhost:8080/",
          "height": 429
        },
        "id": "ZU1P1RkQV0v4",
        "outputId": "44fe0ce0-5b16-4b6f-a6e3-f412fe8a1d03"
      },
      "outputs": [
        {
          "data": {
            "text/plain": [
              "Timestamp                      0\n",
              "Residents                      0\n",
              "Apartment_Type               166\n",
              "Temperature                  150\n",
              "Humidity                       0\n",
              "Water_Price                    0\n",
              "Period_Consumption_Index       0\n",
              "Income_Level                 165\n",
              "Guests                         0\n",
              "Amenities                   2513\n",
              "Appliance_Usage              177\n",
              "dtype: int64"
            ]
          },
          "execution_count": 48,
          "metadata": {},
          "output_type": "execute_result"
        }
      ],
      "source": [
        "df.isna().sum()"
      ]
    },
    {
      "cell_type": "code",
      "execution_count": 49,
      "metadata": {
        "colab": {
          "base_uri": "https://localhost:8080/",
          "height": 429
        },
        "id": "Q9pSisUeV0yg",
        "outputId": "360e923a-b19e-4dfe-cb4d-57bb021b933f"
      },
      "outputs": [
        {
          "data": {
            "text/plain": [
              "Timestamp                    object\n",
              "Residents                     int64\n",
              "Apartment_Type               object\n",
              "Temperature                 float64\n",
              "Humidity                     object\n",
              "Water_Price                 float64\n",
              "Period_Consumption_Index    float64\n",
              "Income_Level                 object\n",
              "Guests                        int64\n",
              "Amenities                    object\n",
              "Appliance_Usage             float64\n",
              "dtype: object"
            ]
          },
          "execution_count": 49,
          "metadata": {},
          "output_type": "execute_result"
        }
      ],
      "source": [
        "df.dtypes"
      ]
    },
    {
      "cell_type": "code",
      "execution_count": 50,
      "metadata": {
        "id": "bRR5OqJBV00v"
      },
      "outputs": [],
      "source": [
        "df = df.drop('Timestamp', axis=1)"
      ]
    },
    {
      "cell_type": "code",
      "execution_count": 51,
      "metadata": {
        "colab": {
          "base_uri": "https://localhost:8080/"
        },
        "id": "rUmExtu2AfLt",
        "outputId": "70d4d5fa-694f-463b-fda4-9dc96ae935d3"
      },
      "outputs": [
        {
          "data": {
            "text/plain": [
              "array([  5,   4,   3,   2,   1, -77, -99, -22, -11, -33, -88, -44, -55,\n",
              "       -66], dtype=int64)"
            ]
          },
          "execution_count": 51,
          "metadata": {},
          "output_type": "execute_result"
        }
      ],
      "source": [
        "df['Residents'].unique()"
      ]
    },
    {
      "cell_type": "code",
      "execution_count": 52,
      "metadata": {
        "colab": {
          "base_uri": "https://localhost:8080/"
        },
        "id": "nEwukNsNAfPJ",
        "outputId": "9ad0e172-0c75-4982-cae7-4c7e2561beff"
      },
      "outputs": [
        {
          "data": {
            "text/plain": [
              "array(['Bungalow', 'Cottage', '1BHK', '3BHK', '2BHK', 'Detached',\n",
              "       'Studio', nan], dtype=object)"
            ]
          },
          "execution_count": 52,
          "metadata": {},
          "output_type": "execute_result"
        }
      ],
      "source": [
        "df['Apartment_Type'].unique()"
      ]
    },
    {
      "cell_type": "code",
      "execution_count": 53,
      "metadata": {
        "id": "D27icxyjAfRw"
      },
      "outputs": [],
      "source": [
        "df['Apartment_Type'] = df['Apartment_Type'].fillna('Missing')"
      ]
    },
    {
      "cell_type": "code",
      "execution_count": 54,
      "metadata": {
        "colab": {
          "base_uri": "https://localhost:8080/"
        },
        "id": "nOfAYSrkAfUn",
        "outputId": "eacc3857-e146-412c-e533-8740640fe8ca"
      },
      "outputs": [
        {
          "data": {
            "text/plain": [
              "array([11.89, 29.22, 10.27, ..., 10.26, 13.41, 11.8 ])"
            ]
          },
          "execution_count": 54,
          "metadata": {},
          "output_type": "execute_result"
        }
      ],
      "source": [
        "df['Temperature'].unique()"
      ]
    },
    {
      "cell_type": "code",
      "execution_count": 55,
      "metadata": {
        "id": "PBy1QlmEAfXD"
      },
      "outputs": [],
      "source": [
        "df['Temperature'] = df['Temperature'].fillna(df['Temperature'].median())"
      ]
    },
    {
      "cell_type": "code",
      "execution_count": 56,
      "metadata": {
        "colab": {
          "base_uri": "https://localhost:8080/"
        },
        "id": "H1fUo88IAfZX",
        "outputId": "d368c6bf-99d9-4f29-f22f-ecda083512c7"
      },
      "outputs": [
        {
          "data": {
            "text/plain": [
              "array(['57.88', '61.41', '64.9', ..., '48.78', '58.68', '33.14'],\n",
              "      dtype=object)"
            ]
          },
          "execution_count": 56,
          "metadata": {},
          "output_type": "execute_result"
        }
      ],
      "source": [
        "df['Humidity'].unique()"
      ]
    },
    {
      "cell_type": "code",
      "execution_count": 57,
      "metadata": {
        "id": "KZnKlqJcAfbw"
      },
      "outputs": [],
      "source": [
        "def convert_to_float_or_nan(value):\n",
        "    \"\"\"Converts a value to float if it's a numerical string,\n",
        "    otherwise returns NaN.\"\"\"\n",
        "    try:\n",
        "        # Check if the value matches a numerical pattern\n",
        "        if re.fullmatch(r'\\d+(\\.\\d+)?', value):\n",
        "            return float(value)\n",
        "        else:\n",
        "            return np.nan  # Non-numerical, replace with NaN\n",
        "    except (ValueError, TypeError):\n",
        "        return np.nan  # Handle errors (e.g., if value is None)\n",
        "\n",
        "# Apply the function to the 'Humidity' column\n",
        "df['Humidity'] = df['Humidity'].apply(convert_to_float_or_nan)"
      ]
    },
    {
      "cell_type": "code",
      "execution_count": 58,
      "metadata": {
        "id": "pHxdSfM8AfeG"
      },
      "outputs": [],
      "source": [
        "df['Humidity']=df['Humidity'].fillna(df['Humidity'].median())"
      ]
    },
    {
      "cell_type": "code",
      "execution_count": 59,
      "metadata": {
        "colab": {
          "base_uri": "https://localhost:8080/"
        },
        "id": "DU8_I8DgAqsa",
        "outputId": "a063806a-6ee8-4a8e-fdf9-311406f72ee5"
      },
      "outputs": [
        {
          "data": {
            "text/plain": [
              "array([  2.77,   2.85,   1.66,   1.48,   1.19,   1.91,   2.51,   1.64,\n",
              "         2.19,   2.82,   1.85,   1.36,   1.49,   1.4 ,   1.8 ,   1.76,\n",
              "         2.53,   1.45,   2.06,   2.43,   1.37,   2.46,   2.64,   1.04,\n",
              "         1.6 ,   2.89,   1.78,   2.93,   2.67,   1.56, -88.  ,   1.55,\n",
              "         2.84,   2.44,   2.1 ,   2.99,   1.32,   2.71,   1.21,   1.41,\n",
              "         1.53,   1.57,   1.09,   1.59,   2.22,   1.29,   2.35,   1.16,\n",
              "         1.39,   1.31,   2.17,   1.25,   1.68,   1.46,   1.38,   2.37,\n",
              "         2.15,   1.47,   1.62,   2.39,   1.22,   1.71,   1.79,   1.61,\n",
              "         2.72,   1.72,   2.41,   1.3 ,   1.77,   1.99,   1.5 ,   1.05,\n",
              "         1.06,   1.2 ,   1.18,   1.11,   2.49,   2.47,   1.75,   1.58,\n",
              "         1.51,   1.63,   1.86,   1.35,   2.18,   1.65,   1.88,   1.82,\n",
              "         1.1 ,   1.42,   2.32,   2.73,   1.24,   1.7 ,   2.28,   1.9 ,\n",
              "         2.31,   2.26,   1.73,   1.26,   2.86,   1.43,   1.15,   2.75,\n",
              "         1.28,   1.07,   1.08, -44.  ,   2.95,   1.12,   1.34,   2.02,\n",
              "         1.13,   2.66,   2.01,   2.56,   2.11,   1.67,   2.16,   2.59,\n",
              "         1.17,   1.52,   2.13,   1.02,   2.57,   2.74,   2.7 ,   2.33,\n",
              "         2.24,   2.23,   2.9 ,   1.33,   2.6 ,   2.09,   2.07,   1.01,\n",
              "         1.  ,   2.98,   1.92,   2.63,   2.79,   2.97,   2.2 , -11.  ,\n",
              "         2.29,   2.58,   1.03,   1.69,   1.27,   2.04,   1.14,   2.36,\n",
              "         1.95,   1.84,   2.65,   2.54,   2.52,   1.54,   2.25,   2.96,\n",
              "         2.  ,   1.97,   2.27,   1.81,   2.48,   1.44,   1.74,   2.34,\n",
              "         2.45, -22.  ,   2.5 , -66.  ,   1.87,   2.78,   2.42,   1.93,\n",
              "         1.83, -77.  ,   2.14,   1.23,   2.91,   2.3 ,   2.94,   1.89,\n",
              "         2.8 ,   3.  , -99.  ,   2.69,   2.61, -55.  ,   2.4 ,   2.62,\n",
              "         1.98,   2.21,   1.94,   2.55,   2.38,   2.83,   2.88,   2.92,\n",
              "         2.76,   2.12,   2.05,   2.68,   2.81, -33.  ,   1.96,   2.08,\n",
              "         2.03,   2.87])"
            ]
          },
          "execution_count": 59,
          "metadata": {},
          "output_type": "execute_result"
        }
      ],
      "source": [
        "df['Water_Price'].unique()"
      ]
    },
    {
      "cell_type": "code",
      "execution_count": 60,
      "metadata": {
        "colab": {
          "base_uri": "https://localhost:8080/"
        },
        "id": "vQbhJTbwAqu2",
        "outputId": "a96c3ec2-b1b3-44c5-cca4-e87408c3f381"
      },
      "outputs": [
        {
          "data": {
            "text/plain": [
              "array([ 1.48      ,  1.3       ,  0.97      ,  1.31      ,  1.14      ,\n",
              "        1.06      ,  1.13      ,  1.11      ,  1.49      ,  1.4       ,\n",
              "        1.12      ,  1.1       ,  1.        ,  0.83      ,  1.5       ,\n",
              "        1.43      ,  1.04      ,  0.82      ,  1.47      ,  1.39      ,\n",
              "        0.9       ,  1.09      ,  1.42      ,  1.38      ,  1.03      ,\n",
              "        0.91      ,  0.98      ,  0.88      ,  0.96      ,  1.35      ,\n",
              "        1.44      ,  1.23      ,  0.94      ,  1.26      ,  1.08      ,\n",
              "        1.19      ,  1.37      ,  1.25      ,  1.41      ,  2.16861286,\n",
              "        1.2       ,  0.8       ,  0.85      ,  0.86      ,  0.71003935,\n",
              "        1.15      ,  0.89      ,  1.27      ,  1.24      ,  1.36      ,\n",
              "        1.45      ,  1.02      ,  1.18      ,  0.87      ,  1.28      ,\n",
              "        1.48785133,  1.22      ,  1.16      ,  0.81      ,  0.93      ,\n",
              "        0.92      ,  1.17      ,  1.34      ,  1.05      ,  2.08592223,\n",
              "        1.01      ,  0.95      ,  1.07      ,  1.32      ,  1.21      ,\n",
              "        1.46      ,  0.58939638,  1.29      ,  1.33      ,  0.84      ,\n",
              "        1.80370413,  0.99      ,  1.58789621,  0.13534954,  0.83884448,\n",
              "        1.9073063 ,  1.48534938,  0.38017037,  0.28820131,  0.39516254,\n",
              "        1.57101246,  1.7715355 ,  1.76592339,  0.80519729,  2.12211205,\n",
              "        0.75633074,  0.67884214,  1.64545137,  0.39457895,  1.56891561,\n",
              "        2.05862659,  0.17296757,  1.88857283,  0.81759052,  1.49782228,\n",
              "        2.07409832,  1.74125415,  1.61734805,  0.33088813,  1.52845526,\n",
              "        1.6569207 ,  0.70071297,  1.84805763,  0.75330416,  2.12222045,\n",
              "        0.13737354,  1.48783906,  1.82176031,  0.7710993 ,  1.75920154,\n",
              "        0.24923806,  0.2960358 ,  1.72265098,  1.56435374,  0.74447814,\n",
              "        1.71288245,  1.81409328,  0.65609083,  1.60633948,  0.37749752,\n",
              "        0.61755046,  0.19917042,  1.41844467,  0.12523365,  2.04772755,\n",
              "        0.62457682,  1.49371956,  2.09195508,  0.61037728,  0.34233108,\n",
              "        0.72764124,  1.93571799,  1.48171827,  0.58305528,  0.74949859,\n",
              "        1.71518165,  0.78909686,  2.1797201 ,  0.27042375,  1.735233  ,\n",
              "        2.10744068,  0.23007596,  0.27026486,  1.91388838,  1.77066668,\n",
              "        0.16746597,  1.6551605 ,  0.53581081,  0.86802271,  0.35894492,\n",
              "        0.40958361,  2.0557714 ,  0.25668265,  0.50297862,  1.93351016,\n",
              "        0.75417546,  0.76208524,  0.64380029,  1.59293107,  0.78419526,\n",
              "        0.52171256,  1.64060193,  0.43835854,  2.13002356,  0.79935985,\n",
              "        1.89290481,  1.45254733,  0.57797663,  0.16465851,  0.71545257,\n",
              "        1.79021815,  1.52169087,  0.58309332,  0.69929968,  2.07201108,\n",
              "        1.83620797,  0.73312011,  0.75919794,  0.25267545,  0.7779268 ,\n",
              "        0.54749368,  0.43972781,  0.68426005,  1.6222727 ,  0.27929011,\n",
              "        1.80503253,  0.54593132,  1.99046012,  0.45555377,  2.07540273,\n",
              "        0.18690011,  0.72750882,  0.80921008,  0.83147769,  0.58282792,\n",
              "        0.23097097,  1.96637917,  0.28907473,  2.13780526,  0.28822048,\n",
              "        1.65751883,  0.70968897,  1.84159812,  1.48972884,  0.40597285,\n",
              "        1.46572375,  1.84064027,  1.55561377,  1.98982793,  0.82475678,\n",
              "        1.62533233,  0.17542145,  0.2921233 ,  1.97849346,  1.74732337,\n",
              "        2.04565574,  0.40348951,  1.79585783,  0.26633306,  2.05149657,\n",
              "        2.54561707,  0.70157204,  1.42242606,  0.24606235,  0.77488509,\n",
              "        1.823724  ,  1.9197221 ,  0.41354757,  0.5010913 ,  0.60455051,\n",
              "        0.63098525,  0.74215532,  2.02298958,  1.88126491,  0.56545491,\n",
              "        0.62744709,  1.51972775,  1.94459986,  0.63115144,  1.85635075,\n",
              "        1.96563375,  0.28863594,  0.56653811,  0.84701146,  0.78367148,\n",
              "        0.47153817,  0.22372652,  2.0664386 ,  0.31431132,  0.61667272,\n",
              "        0.60985455,  1.51316411,  0.73560328,  1.88646729,  0.26029852,\n",
              "       -0.01263423,  0.39413846,  1.9827658 ,  2.11298125,  1.73580984,\n",
              "        0.68710065,  1.8004965 ,  0.57833177,  0.71133085,  2.08136494,\n",
              "        2.10762141,  1.60536386,  0.4091682 ,  1.75606378,  1.91663201,\n",
              "        1.67964239,  0.44313821,  2.46390803,  2.11810142,  1.88267353])"
            ]
          },
          "execution_count": 60,
          "metadata": {},
          "output_type": "execute_result"
        }
      ],
      "source": [
        "df['Period_Consumption_Index'].unique()"
      ]
    },
    {
      "cell_type": "code",
      "execution_count": 61,
      "metadata": {
        "colab": {
          "base_uri": "https://localhost:8080/"
        },
        "id": "qlI-5VjcAqxo",
        "outputId": "f1fa42ef-7874-4222-a8bc-e723055664b0"
      },
      "outputs": [
        {
          "data": {
            "text/plain": [
              "array(['Upper Middle', 'Middle', 'Low', 'Rich', '!vg],', nan, '|O6&W',\n",
              "       \"'#rm&\", '#q7B0', 'Bo%vV', '1S\\\\09', 'hvNL}', 'G0;U$', 'L8\"Ju',\n",
              "       '0OC_i', '${n)t', 'L?-2l', 'fT(ao', '?n\\\\3L', 'oYo=v', '>m3Q|',\n",
              "       'vXO|U', 'H7EFe', '{{\\\\3I', '-USqL', ')DK~A', 'P.;bp', 'K7d\"U',\n",
              "       'uVDI-', 'e4~3\"', 'doJ?D', '(i8m/', 't5of{', '|b!Q$', 'f]Q*~',\n",
              "       'oNI_s', '?33Od', \"^'Hg1\", 'kIt`=', '3&K8&', '2rp4.', '7S8e3',\n",
              "       '~$;fC', 'uc~vk', 'e3eoi', 'I{2i4', 'PZvuy', '5P>_Q', '0W.!W',\n",
              "       'r\"2CI', 'A%=OJ', \":kU^'\", '09l]%', '`gV~e', 'zMf60', '*=SUH',\n",
              "       '?_^nL', 'hZ`Tf', '=JlF/', 'dj#U+', 'LlUBT', 'S!|`r', ']|G/A',\n",
              "       'uu:lz', 'An\"Rk', '+9-mY', 'oswQ|', 'W2Zs2', \")~C'l\", '<ZP2\"',\n",
              "       '<pe]T', 'aM{L?', 'H~)`Y', '_l=u<', 'c4XdG', 'J@opf', 'qyuu#',\n",
              "       'x4~#E', 'T!<9<', '`wY0/', 'OvU0[', 'T*@P#', 'C>7PT', 'N`%/L',\n",
              "       'X8Vz&', 'T00<7', 'A0>C4', '_N~m/', '}TJ.1', 'qv-X(', 'SHZ:R',\n",
              "       'ZOM5q', 'L~+QP', 'r&;v8', '^5Pee', \"l'3|Q\", 'Vp&%_', \"A?'t(\",\n",
              "       'fC\\\\Xk', 'gyj1u', 'FAoBM', 'ZFJsZ', '*jCs/', 'QYwkM', '\\\\f0v{',\n",
              "       'e>.f2', '6UyDP', 'UdXsf', '&4$+;', '/0<:%', 'X:yJw', 'JC@E8',\n",
              "       'f7i,Y', '\"lNW\"', 'kzT)o', '*e4/.', 'WoaqR', 'K%gMX', 'Nzvls',\n",
              "       'eGnXA', '7.4=G', '~h^yI', 'Q;JCA', '\\\\V-7H', '5Alxm', 'dJ_95',\n",
              "       'REh@T', ':Sw{=', 'h{9<Q', '<X\"g&', '9mc)+', 'nYBEO', 'qJKbp',\n",
              "       \"xO'cF\", 'Lv;$8', '-C,fW', 'O_BPK', ';@~vS', 'Pos;3', '$3rPx',\n",
              "       \"}@V'=\", '}<CN`', '6O$.i', 'buOQq', 'jDszT', '%T+h|', 'd\"l]p',\n",
              "       '8qL%L', 'a4.HL', '=z70*', 'inFGX', 'N`a+V', '[o*C|', '@]5&<',\n",
              "       'B\\\\X3.', 'H\"\\\\SQ', '-XkQq', 'E&[$@', 'N<htQ', '(6VGf', '\"V0[r',\n",
              "       'pfLQx', 'F).7)'], dtype=object)"
            ]
          },
          "execution_count": 61,
          "metadata": {},
          "output_type": "execute_result"
        }
      ],
      "source": [
        "df['Income_Level'].unique()"
      ]
    },
    {
      "cell_type": "code",
      "execution_count": 62,
      "metadata": {
        "id": "pfjQUsinAqz-"
      },
      "outputs": [],
      "source": [
        "valid_categories = ['Low', 'Middle', 'Upper Middle', 'Rich']\n",
        "\n",
        "# 2. Replace unusual values with 'Unknown'\n",
        "df['Income_Level'] = df['Income_Level'].apply(lambda x: x if x in valid_categories else 'Unknown')\n"
      ]
    },
    {
      "cell_type": "code",
      "execution_count": 63,
      "metadata": {
        "id": "_EIc3-xQAq3Y"
      },
      "outputs": [],
      "source": [
        "df['Income_Level'] = df['Income_Level'].fillna('Missing')"
      ]
    },
    {
      "cell_type": "code",
      "execution_count": 64,
      "metadata": {
        "colab": {
          "base_uri": "https://localhost:8080/"
        },
        "id": "Z1geVWvFAq5e",
        "outputId": "68c190e0-ccc7-440c-ca8c-76ded8fc9e57"
      },
      "outputs": [
        {
          "data": {
            "text/plain": [
              "array([ 1,  0, -1,  2,  3], dtype=int64)"
            ]
          },
          "execution_count": 64,
          "metadata": {},
          "output_type": "execute_result"
        }
      ],
      "source": [
        "df['Guests'].unique()"
      ]
    },
    {
      "cell_type": "code",
      "execution_count": 65,
      "metadata": {
        "colab": {
          "base_uri": "https://localhost:8080/"
        },
        "id": "hm0gL0fCA16A",
        "outputId": "314ed076-edff-43dd-da3d-fe4ba6a77430"
      },
      "outputs": [
        {
          "data": {
            "text/plain": [
              "array(['Jacuzzi', 'Garden', nan, 'Swimming Pool', 'Fountain'],\n",
              "      dtype=object)"
            ]
          },
          "execution_count": 65,
          "metadata": {},
          "output_type": "execute_result"
        }
      ],
      "source": [
        "df['Amenities'].unique()"
      ]
    },
    {
      "cell_type": "code",
      "execution_count": 66,
      "metadata": {
        "id": "nRrTxrCRA18f"
      },
      "outputs": [],
      "source": [
        "df['Amenities'] = df['Amenities'].fillna('Missing')"
      ]
    },
    {
      "cell_type": "code",
      "execution_count": 67,
      "metadata": {
        "colab": {
          "base_uri": "https://localhost:8080/"
        },
        "id": "fV8xflBaA1_H",
        "outputId": "b4c0f58c-2f19-48d8-950b-436303745849"
      },
      "outputs": [
        {
          "data": {
            "text/plain": [
              "array([ 0., nan,  1.])"
            ]
          },
          "execution_count": 67,
          "metadata": {},
          "output_type": "execute_result"
        }
      ],
      "source": [
        "df['Appliance_Usage'].unique()"
      ]
    },
    {
      "cell_type": "code",
      "execution_count": 68,
      "metadata": {
        "id": "wApg6g1rA2Bn"
      },
      "outputs": [],
      "source": [
        "df['Appliance_Usage'] = df['Appliance_Usage'].fillna(df['Appliance_Usage'].median())"
      ]
    },
    {
      "cell_type": "code",
      "execution_count": 69,
      "metadata": {
        "colab": {
          "base_uri": "https://localhost:8080/",
          "height": 397
        },
        "id": "CrKhZOtoA2Es",
        "outputId": "4a1df87e-ae16-451b-ab1b-e73a8238305e"
      },
      "outputs": [
        {
          "data": {
            "text/plain": [
              "Residents                   0\n",
              "Apartment_Type              0\n",
              "Temperature                 0\n",
              "Humidity                    0\n",
              "Water_Price                 0\n",
              "Period_Consumption_Index    0\n",
              "Income_Level                0\n",
              "Guests                      0\n",
              "Amenities                   0\n",
              "Appliance_Usage             0\n",
              "dtype: int64"
            ]
          },
          "execution_count": 69,
          "metadata": {},
          "output_type": "execute_result"
        }
      ],
      "source": [
        "df.isna().sum()"
      ]
    },
    {
      "cell_type": "code",
      "execution_count": 70,
      "metadata": {
        "colab": {
          "base_uri": "https://localhost:8080/",
          "height": 397
        },
        "id": "WSBTKxhOA9fY",
        "outputId": "73d99350-93f6-4cb8-e97d-7c8918df601b"
      },
      "outputs": [
        {
          "data": {
            "text/plain": [
              "Residents                     int64\n",
              "Apartment_Type               object\n",
              "Temperature                 float64\n",
              "Humidity                    float64\n",
              "Water_Price                 float64\n",
              "Period_Consumption_Index    float64\n",
              "Income_Level                 object\n",
              "Guests                        int64\n",
              "Amenities                    object\n",
              "Appliance_Usage             float64\n",
              "dtype: object"
            ]
          },
          "execution_count": 70,
          "metadata": {},
          "output_type": "execute_result"
        }
      ],
      "source": [
        "df.dtypes"
      ]
    },
    {
      "cell_type": "code",
      "execution_count": 71,
      "metadata": {
        "id": "fkIROq28A9iB"
      },
      "outputs": [],
      "source": [
        "encoder = LabelEncoder()\n",
        "\n",
        "# Select the categorical columns you want to encode\n",
        "categorical_columns = ['Apartment_Type', 'Amenities','Income_Level']  # Replace with your column names\n",
        "\n",
        "# Loop through the columns and apply label encoding\n",
        "for column in categorical_columns:\n",
        "    df[column] = encoder.fit_transform(df[column])"
      ]
    },
    {
      "cell_type": "code",
      "execution_count": 72,
      "metadata": {
        "colab": {
          "base_uri": "https://localhost:8080/",
          "height": 397
        },
        "id": "Qc6IjnP9A9kh",
        "outputId": "99db3f9c-9529-4fde-a282-a2bd707ef401"
      },
      "outputs": [
        {
          "data": {
            "text/plain": [
              "Residents                     int64\n",
              "Apartment_Type                int32\n",
              "Temperature                 float64\n",
              "Humidity                    float64\n",
              "Water_Price                 float64\n",
              "Period_Consumption_Index    float64\n",
              "Income_Level                  int32\n",
              "Guests                        int64\n",
              "Amenities                     int32\n",
              "Appliance_Usage             float64\n",
              "dtype: object"
            ]
          },
          "execution_count": 72,
          "metadata": {},
          "output_type": "execute_result"
        }
      ],
      "source": [
        "df.dtypes"
      ]
    },
    {
      "cell_type": "code",
      "execution_count": 73,
      "metadata": {
        "colab": {
          "base_uri": "https://localhost:8080/"
        },
        "id": "0cTNE80ZA9mX",
        "outputId": "76b0e28f-68f7-4929-8e93-e13c2c50bbb1"
      },
      "outputs": [
        {
          "data": {
            "text/plain": [
              "Index(['Residents', 'Apartment_Type', 'Temperature', 'Humidity', 'Water_Price',\n",
              "       'Period_Consumption_Index', 'Income_Level', 'Guests', 'Amenities',\n",
              "       'Appliance_Usage'],\n",
              "      dtype='object')"
            ]
          },
          "execution_count": 73,
          "metadata": {},
          "output_type": "execute_result"
        }
      ],
      "source": [
        "df.columns"
      ]
    },
    {
      "cell_type": "code",
      "execution_count": 74,
      "metadata": {
        "colab": {
          "base_uri": "https://localhost:8080/"
        },
        "id": "_htooFjgBhho",
        "outputId": "c4c834fb-1d21-4690-f3ff-19cbcf5d0c34"
      },
      "outputs": [
        {
          "name": "stdout",
          "output_type": "stream",
          "text": [
            "Predictions saved to 'predictions.csv'\n"
          ]
        }
      ],
      "source": [
        "y_pred3 = model.predict(df)\n",
        "\n",
        "# Convert to DataFrame\n",
        "predictions_df = pd.DataFrame({'Predicted': y_pred3})\n",
        "\n",
        "# Save to CSV\n",
        "predictions_df.to_csv('predictions.csv', index=False)\n",
        "\n",
        "print(\"Predictions saved to 'predictions.csv'\")\n"
      ]
    },
    {
      "cell_type": "code",
      "execution_count": 76,
      "metadata": {
        "id": "WVoQZYhXURzW"
      },
      "outputs": [],
      "source": [
        "final=pd.read_csv(r'Z:\\projects\\smart water system\\dataset\\test.csv')\n",
        "pred=pd.read_csv(r'Z:\\projects\\smart water system\\predictions.csv')"
      ]
    },
    {
      "cell_type": "code",
      "execution_count": 77,
      "metadata": {
        "colab": {
          "base_uri": "https://localhost:8080/",
          "height": 423
        },
        "id": "vXY9pJctUwuW",
        "outputId": "2112ca71-b370-4036-ff56-efe50dcbf88c"
      },
      "outputs": [
        {
          "data": {
            "text/html": [
              "<div>\n",
              "<style scoped>\n",
              "    .dataframe tbody tr th:only-of-type {\n",
              "        vertical-align: middle;\n",
              "    }\n",
              "\n",
              "    .dataframe tbody tr th {\n",
              "        vertical-align: top;\n",
              "    }\n",
              "\n",
              "    .dataframe thead th {\n",
              "        text-align: right;\n",
              "    }\n",
              "</style>\n",
              "<table border=\"1\" class=\"dataframe\">\n",
              "  <thead>\n",
              "    <tr style=\"text-align: right;\">\n",
              "      <th></th>\n",
              "      <th>Predicted</th>\n",
              "    </tr>\n",
              "  </thead>\n",
              "  <tbody>\n",
              "    <tr>\n",
              "      <th>0</th>\n",
              "      <td>300.570492</td>\n",
              "    </tr>\n",
              "    <tr>\n",
              "      <th>1</th>\n",
              "      <td>188.863666</td>\n",
              "    </tr>\n",
              "    <tr>\n",
              "      <th>2</th>\n",
              "      <td>77.739536</td>\n",
              "    </tr>\n",
              "    <tr>\n",
              "      <th>3</th>\n",
              "      <td>122.470032</td>\n",
              "    </tr>\n",
              "    <tr>\n",
              "      <th>4</th>\n",
              "      <td>124.849289</td>\n",
              "    </tr>\n",
              "    <tr>\n",
              "      <th>...</th>\n",
              "      <td>...</td>\n",
              "    </tr>\n",
              "    <tr>\n",
              "      <th>5995</th>\n",
              "      <td>236.394150</td>\n",
              "    </tr>\n",
              "    <tr>\n",
              "      <th>5996</th>\n",
              "      <td>83.689142</td>\n",
              "    </tr>\n",
              "    <tr>\n",
              "      <th>5997</th>\n",
              "      <td>263.052839</td>\n",
              "    </tr>\n",
              "    <tr>\n",
              "      <th>5998</th>\n",
              "      <td>183.645250</td>\n",
              "    </tr>\n",
              "    <tr>\n",
              "      <th>5999</th>\n",
              "      <td>73.706032</td>\n",
              "    </tr>\n",
              "  </tbody>\n",
              "</table>\n",
              "<p>6000 rows × 1 columns</p>\n",
              "</div>"
            ],
            "text/plain": [
              "       Predicted\n",
              "0     300.570492\n",
              "1     188.863666\n",
              "2      77.739536\n",
              "3     122.470032\n",
              "4     124.849289\n",
              "...          ...\n",
              "5995  236.394150\n",
              "5996   83.689142\n",
              "5997  263.052839\n",
              "5998  183.645250\n",
              "5999   73.706032\n",
              "\n",
              "[6000 rows x 1 columns]"
            ]
          },
          "execution_count": 77,
          "metadata": {},
          "output_type": "execute_result"
        }
      ],
      "source": [
        "pred"
      ]
    },
    {
      "cell_type": "code",
      "execution_count": 78,
      "metadata": {
        "colab": {
          "base_uri": "https://localhost:8080/"
        },
        "id": "uuztTRO4U13G",
        "outputId": "896bf2a4-c75b-4ba5-c4de-257490b35e24"
      },
      "outputs": [
        {
          "data": {
            "text/plain": [
              "Index(['Timestamp', 'Residents', 'Apartment_Type', 'Temperature', 'Humidity',\n",
              "       'Water_Price', 'Period_Consumption_Index', 'Income_Level', 'Guests',\n",
              "       'Amenities', 'Appliance_Usage'],\n",
              "      dtype='object')"
            ]
          },
          "execution_count": 78,
          "metadata": {},
          "output_type": "execute_result"
        }
      ],
      "source": [
        "final.columns"
      ]
    },
    {
      "cell_type": "code",
      "execution_count": 79,
      "metadata": {
        "id": "ZYqHzgceU4-X"
      },
      "outputs": [],
      "source": [
        "final=final.drop(columns=['Residents', 'Apartment_Type', 'Temperature', 'Humidity',\n",
        "       'Water_Price', 'Period_Consumption_Index', 'Income_Level', 'Guests',\n",
        "       'Amenities', 'Appliance_Usage'],axis=1)"
      ]
    },
    {
      "cell_type": "code",
      "execution_count": 80,
      "metadata": {
        "colab": {
          "base_uri": "https://localhost:8080/",
          "height": 423
        },
        "id": "68jgcDVbVAB2",
        "outputId": "804d5d8a-3c9b-4194-eeda-ff196c22fb5b"
      },
      "outputs": [
        {
          "data": {
            "text/html": [
              "<div>\n",
              "<style scoped>\n",
              "    .dataframe tbody tr th:only-of-type {\n",
              "        vertical-align: middle;\n",
              "    }\n",
              "\n",
              "    .dataframe tbody tr th {\n",
              "        vertical-align: top;\n",
              "    }\n",
              "\n",
              "    .dataframe thead th {\n",
              "        text-align: right;\n",
              "    }\n",
              "</style>\n",
              "<table border=\"1\" class=\"dataframe\">\n",
              "  <thead>\n",
              "    <tr style=\"text-align: right;\">\n",
              "      <th></th>\n",
              "      <th>Timestamp</th>\n",
              "    </tr>\n",
              "  </thead>\n",
              "  <tbody>\n",
              "    <tr>\n",
              "      <th>0</th>\n",
              "      <td>11/10/2014 16</td>\n",
              "    </tr>\n",
              "    <tr>\n",
              "      <th>1</th>\n",
              "      <td>12/10/2014 00</td>\n",
              "    </tr>\n",
              "    <tr>\n",
              "      <th>2</th>\n",
              "      <td>12/10/2014 08</td>\n",
              "    </tr>\n",
              "    <tr>\n",
              "      <th>3</th>\n",
              "      <td>12/10/2014 16</td>\n",
              "    </tr>\n",
              "    <tr>\n",
              "      <th>4</th>\n",
              "      <td>13/10/2014 00</td>\n",
              "    </tr>\n",
              "    <tr>\n",
              "      <th>...</th>\n",
              "      <td>...</td>\n",
              "    </tr>\n",
              "    <tr>\n",
              "      <th>5995</th>\n",
              "      <td>01/04/2020 00</td>\n",
              "    </tr>\n",
              "    <tr>\n",
              "      <th>5996</th>\n",
              "      <td>01/04/2020 08</td>\n",
              "    </tr>\n",
              "    <tr>\n",
              "      <th>5997</th>\n",
              "      <td>01/04/2020 16</td>\n",
              "    </tr>\n",
              "    <tr>\n",
              "      <th>5998</th>\n",
              "      <td>02/04/2020 00</td>\n",
              "    </tr>\n",
              "    <tr>\n",
              "      <th>5999</th>\n",
              "      <td>02/04/2020 08</td>\n",
              "    </tr>\n",
              "  </tbody>\n",
              "</table>\n",
              "<p>6000 rows × 1 columns</p>\n",
              "</div>"
            ],
            "text/plain": [
              "          Timestamp\n",
              "0     11/10/2014 16\n",
              "1     12/10/2014 00\n",
              "2     12/10/2014 08\n",
              "3     12/10/2014 16\n",
              "4     13/10/2014 00\n",
              "...             ...\n",
              "5995  01/04/2020 00\n",
              "5996  01/04/2020 08\n",
              "5997  01/04/2020 16\n",
              "5998  02/04/2020 00\n",
              "5999  02/04/2020 08\n",
              "\n",
              "[6000 rows x 1 columns]"
            ]
          },
          "execution_count": 80,
          "metadata": {},
          "output_type": "execute_result"
        }
      ],
      "source": [
        "final"
      ]
    },
    {
      "cell_type": "code",
      "execution_count": 81,
      "metadata": {
        "id": "MqUG8vkKUa8m"
      },
      "outputs": [],
      "source": [
        "merged_df = pd.concat([final, pred], axis=1)"
      ]
    },
    {
      "cell_type": "code",
      "execution_count": 82,
      "metadata": {
        "id": "HsUpTrzgVUM2"
      },
      "outputs": [],
      "source": [
        "merged_df.to_csv('final.csv',index=False)"
      ]
    }
  ],
  "metadata": {
    "colab": {
      "provenance": []
    },
    "kernelspec": {
      "display_name": ".venv",
      "language": "python",
      "name": "python3"
    },
    "language_info": {
      "codemirror_mode": {
        "name": "ipython",
        "version": 3
      },
      "file_extension": ".py",
      "mimetype": "text/x-python",
      "name": "python",
      "nbconvert_exporter": "python",
      "pygments_lexer": "ipython3",
      "version": "3.11.9"
    },
    "widgets": {
      "application/vnd.jupyter.widget-state+json": {
        "07264c78a0114b5da9dfc33eb2d5adae": {
          "model_module": "@jupyter-widgets/controls",
          "model_module_version": "1.5.0",
          "model_name": "FloatProgressModel",
          "state": {
            "_dom_classes": [],
            "_model_module": "@jupyter-widgets/controls",
            "_model_module_version": "1.5.0",
            "_model_name": "FloatProgressModel",
            "_view_count": null,
            "_view_module": "@jupyter-widgets/controls",
            "_view_module_version": "1.5.0",
            "_view_name": "ProgressView",
            "bar_style": "",
            "description": "",
            "description_tooltip": null,
            "layout": "IPY_MODEL_6775bd13b07647cc897c706efb539ddc",
            "max": 81,
            "min": 0,
            "orientation": "horizontal",
            "style": "IPY_MODEL_fe5d1c6d0c894ff1a056f1e512209cb2",
            "value": 81
          }
        },
        "152ea10e838f489e95dff91a7a02fc60": {
          "model_module": "@jupyter-widgets/controls",
          "model_module_version": "1.5.0",
          "model_name": "FloatProgressModel",
          "state": {
            "_dom_classes": [],
            "_model_module": "@jupyter-widgets/controls",
            "_model_module_version": "1.5.0",
            "_model_name": "FloatProgressModel",
            "_view_count": null,
            "_view_module": "@jupyter-widgets/controls",
            "_view_module_version": "1.5.0",
            "_view_name": "ProgressView",
            "bar_style": "",
            "description": "",
            "description_tooltip": null,
            "layout": "IPY_MODEL_e43c8185bf6f4c22ae7308f3cf712848",
            "max": 81,
            "min": 0,
            "orientation": "horizontal",
            "style": "IPY_MODEL_1c37812f71d74091bab9c0a383012ad3",
            "value": 81
          }
        },
        "1c37812f71d74091bab9c0a383012ad3": {
          "model_module": "@jupyter-widgets/controls",
          "model_module_version": "1.5.0",
          "model_name": "ProgressStyleModel",
          "state": {
            "_model_module": "@jupyter-widgets/controls",
            "_model_module_version": "1.5.0",
            "_model_name": "ProgressStyleModel",
            "_view_count": null,
            "_view_module": "@jupyter-widgets/base",
            "_view_module_version": "1.2.0",
            "_view_name": "StyleView",
            "bar_color": null,
            "description_width": ""
          }
        },
        "20c2ee5f514546abb4cec245bf90e3cd": {
          "model_module": "@jupyter-widgets/controls",
          "model_module_version": "1.5.0",
          "model_name": "DescriptionStyleModel",
          "state": {
            "_model_module": "@jupyter-widgets/controls",
            "_model_module_version": "1.5.0",
            "_model_name": "DescriptionStyleModel",
            "_view_count": null,
            "_view_module": "@jupyter-widgets/base",
            "_view_module_version": "1.2.0",
            "_view_name": "StyleView",
            "description_width": ""
          }
        },
        "369a71cd17da42eb9c5e24d93c18583e": {
          "model_module": "@jupyter-widgets/base",
          "model_module_version": "1.2.0",
          "model_name": "LayoutModel",
          "state": {
            "_model_module": "@jupyter-widgets/base",
            "_model_module_version": "1.2.0",
            "_model_name": "LayoutModel",
            "_view_count": null,
            "_view_module": "@jupyter-widgets/base",
            "_view_module_version": "1.2.0",
            "_view_name": "LayoutView",
            "align_content": null,
            "align_items": null,
            "align_self": null,
            "border": null,
            "bottom": null,
            "display": null,
            "flex": null,
            "flex_flow": null,
            "grid_area": null,
            "grid_auto_columns": null,
            "grid_auto_flow": null,
            "grid_auto_rows": null,
            "grid_column": null,
            "grid_gap": null,
            "grid_row": null,
            "grid_template_areas": null,
            "grid_template_columns": null,
            "grid_template_rows": null,
            "height": null,
            "justify_content": null,
            "justify_items": null,
            "left": null,
            "margin": null,
            "max_height": null,
            "max_width": null,
            "min_height": null,
            "min_width": null,
            "object_fit": null,
            "object_position": null,
            "order": null,
            "overflow": null,
            "overflow_x": null,
            "overflow_y": null,
            "padding": null,
            "right": null,
            "top": null,
            "visibility": null,
            "width": null
          }
        },
        "3ce585e263cc4d2f99c4b7ee215f161a": {
          "model_module": "@jupyter-widgets/base",
          "model_module_version": "1.2.0",
          "model_name": "LayoutModel",
          "state": {
            "_model_module": "@jupyter-widgets/base",
            "_model_module_version": "1.2.0",
            "_model_name": "LayoutModel",
            "_view_count": null,
            "_view_module": "@jupyter-widgets/base",
            "_view_module_version": "1.2.0",
            "_view_name": "LayoutView",
            "align_content": null,
            "align_items": null,
            "align_self": null,
            "border": null,
            "bottom": null,
            "display": null,
            "flex": null,
            "flex_flow": null,
            "grid_area": null,
            "grid_auto_columns": null,
            "grid_auto_flow": null,
            "grid_auto_rows": null,
            "grid_column": null,
            "grid_gap": null,
            "grid_row": null,
            "grid_template_areas": null,
            "grid_template_columns": null,
            "grid_template_rows": null,
            "height": null,
            "justify_content": null,
            "justify_items": null,
            "left": null,
            "margin": null,
            "max_height": null,
            "max_width": null,
            "min_height": null,
            "min_width": null,
            "object_fit": null,
            "object_position": null,
            "order": null,
            "overflow": null,
            "overflow_x": null,
            "overflow_y": null,
            "padding": null,
            "right": null,
            "top": null,
            "visibility": "hidden",
            "width": null
          }
        },
        "5b86dba7a33d415ca1309e645cfc929b": {
          "model_module": "@jupyter-widgets/controls",
          "model_module_version": "1.5.0",
          "model_name": "HBoxModel",
          "state": {
            "_dom_classes": [],
            "_model_module": "@jupyter-widgets/controls",
            "_model_module_version": "1.5.0",
            "_model_name": "HBoxModel",
            "_view_count": null,
            "_view_module": "@jupyter-widgets/controls",
            "_view_module_version": "1.5.0",
            "_view_name": "HBoxView",
            "box_style": "",
            "children": [
              "IPY_MODEL_5c73b23076fd4adf9f1a03af216b7d9e",
              "IPY_MODEL_07264c78a0114b5da9dfc33eb2d5adae",
              "IPY_MODEL_f6f7b4a45d79452695661137915abe6c"
            ],
            "layout": "IPY_MODEL_3ce585e263cc4d2f99c4b7ee215f161a"
          }
        },
        "5c73b23076fd4adf9f1a03af216b7d9e": {
          "model_module": "@jupyter-widgets/controls",
          "model_module_version": "1.5.0",
          "model_name": "HTMLModel",
          "state": {
            "_dom_classes": [],
            "_model_module": "@jupyter-widgets/controls",
            "_model_module_version": "1.5.0",
            "_model_name": "HTMLModel",
            "_view_count": null,
            "_view_module": "@jupyter-widgets/controls",
            "_view_module_version": "1.5.0",
            "_view_name": "HTMLView",
            "description": "",
            "description_tooltip": null,
            "layout": "IPY_MODEL_cb59a309133c4a80ab2114507accba6f",
            "placeholder": "​",
            "style": "IPY_MODEL_d578ebf5187749a4bbbee53e1926fe94",
            "value": "Processing: 100%"
          }
        },
        "5e85cdca95e14c518c2c3502dc505b2a": {
          "model_module": "@jupyter-widgets/controls",
          "model_module_version": "1.5.0",
          "model_name": "HTMLModel",
          "state": {
            "_dom_classes": [],
            "_model_module": "@jupyter-widgets/controls",
            "_model_module_version": "1.5.0",
            "_model_name": "HTMLModel",
            "_view_count": null,
            "_view_module": "@jupyter-widgets/controls",
            "_view_module_version": "1.5.0",
            "_view_name": "HTMLView",
            "description": "",
            "description_tooltip": null,
            "layout": "IPY_MODEL_bd82c0e1f93143788287575e21b4307d",
            "placeholder": "​",
            "style": "IPY_MODEL_bb4e29443abe454fa7e074acdaa656f3",
            "value": "Processing: 100%"
          }
        },
        "6775bd13b07647cc897c706efb539ddc": {
          "model_module": "@jupyter-widgets/base",
          "model_module_version": "1.2.0",
          "model_name": "LayoutModel",
          "state": {
            "_model_module": "@jupyter-widgets/base",
            "_model_module_version": "1.2.0",
            "_model_name": "LayoutModel",
            "_view_count": null,
            "_view_module": "@jupyter-widgets/base",
            "_view_module_version": "1.2.0",
            "_view_name": "LayoutView",
            "align_content": null,
            "align_items": null,
            "align_self": null,
            "border": null,
            "bottom": null,
            "display": null,
            "flex": null,
            "flex_flow": null,
            "grid_area": null,
            "grid_auto_columns": null,
            "grid_auto_flow": null,
            "grid_auto_rows": null,
            "grid_column": null,
            "grid_gap": null,
            "grid_row": null,
            "grid_template_areas": null,
            "grid_template_columns": null,
            "grid_template_rows": null,
            "height": null,
            "justify_content": null,
            "justify_items": null,
            "left": null,
            "margin": null,
            "max_height": null,
            "max_width": null,
            "min_height": null,
            "min_width": null,
            "object_fit": null,
            "object_position": null,
            "order": null,
            "overflow": null,
            "overflow_x": null,
            "overflow_y": null,
            "padding": null,
            "right": null,
            "top": null,
            "visibility": null,
            "width": null
          }
        },
        "844fdba765fd46fba68bd9d968a2a7c4": {
          "model_module": "@jupyter-widgets/controls",
          "model_module_version": "1.5.0",
          "model_name": "HTMLModel",
          "state": {
            "_dom_classes": [],
            "_model_module": "@jupyter-widgets/controls",
            "_model_module_version": "1.5.0",
            "_model_name": "HTMLModel",
            "_view_count": null,
            "_view_module": "@jupyter-widgets/controls",
            "_view_module_version": "1.5.0",
            "_view_name": "HTMLView",
            "description": "",
            "description_tooltip": null,
            "layout": "IPY_MODEL_ce85310d55f74bd383796359136eac3c",
            "placeholder": "​",
            "style": "IPY_MODEL_a494a36ac601482e819b75b716340f4c",
            "value": " 81/81 [01:40&lt;00:00,  1.74it/s]"
          }
        },
        "a494a36ac601482e819b75b716340f4c": {
          "model_module": "@jupyter-widgets/controls",
          "model_module_version": "1.5.0",
          "model_name": "DescriptionStyleModel",
          "state": {
            "_model_module": "@jupyter-widgets/controls",
            "_model_module_version": "1.5.0",
            "_model_name": "DescriptionStyleModel",
            "_view_count": null,
            "_view_module": "@jupyter-widgets/base",
            "_view_module_version": "1.2.0",
            "_view_name": "StyleView",
            "description_width": ""
          }
        },
        "ad3a53f573744737adf8413925a037ca": {
          "model_module": "@jupyter-widgets/controls",
          "model_module_version": "1.5.0",
          "model_name": "HBoxModel",
          "state": {
            "_dom_classes": [],
            "_model_module": "@jupyter-widgets/controls",
            "_model_module_version": "1.5.0",
            "_model_name": "HBoxModel",
            "_view_count": null,
            "_view_module": "@jupyter-widgets/controls",
            "_view_module_version": "1.5.0",
            "_view_name": "HBoxView",
            "box_style": "",
            "children": [
              "IPY_MODEL_5e85cdca95e14c518c2c3502dc505b2a",
              "IPY_MODEL_152ea10e838f489e95dff91a7a02fc60",
              "IPY_MODEL_844fdba765fd46fba68bd9d968a2a7c4"
            ],
            "layout": "IPY_MODEL_d680a7ee96f74a2a851799e1e6308f0e"
          }
        },
        "bb4e29443abe454fa7e074acdaa656f3": {
          "model_module": "@jupyter-widgets/controls",
          "model_module_version": "1.5.0",
          "model_name": "DescriptionStyleModel",
          "state": {
            "_model_module": "@jupyter-widgets/controls",
            "_model_module_version": "1.5.0",
            "_model_name": "DescriptionStyleModel",
            "_view_count": null,
            "_view_module": "@jupyter-widgets/base",
            "_view_module_version": "1.2.0",
            "_view_name": "StyleView",
            "description_width": ""
          }
        },
        "bd82c0e1f93143788287575e21b4307d": {
          "model_module": "@jupyter-widgets/base",
          "model_module_version": "1.2.0",
          "model_name": "LayoutModel",
          "state": {
            "_model_module": "@jupyter-widgets/base",
            "_model_module_version": "1.2.0",
            "_model_name": "LayoutModel",
            "_view_count": null,
            "_view_module": "@jupyter-widgets/base",
            "_view_module_version": "1.2.0",
            "_view_name": "LayoutView",
            "align_content": null,
            "align_items": null,
            "align_self": null,
            "border": null,
            "bottom": null,
            "display": null,
            "flex": null,
            "flex_flow": null,
            "grid_area": null,
            "grid_auto_columns": null,
            "grid_auto_flow": null,
            "grid_auto_rows": null,
            "grid_column": null,
            "grid_gap": null,
            "grid_row": null,
            "grid_template_areas": null,
            "grid_template_columns": null,
            "grid_template_rows": null,
            "height": null,
            "justify_content": null,
            "justify_items": null,
            "left": null,
            "margin": null,
            "max_height": null,
            "max_width": null,
            "min_height": null,
            "min_width": null,
            "object_fit": null,
            "object_position": null,
            "order": null,
            "overflow": null,
            "overflow_x": null,
            "overflow_y": null,
            "padding": null,
            "right": null,
            "top": null,
            "visibility": null,
            "width": null
          }
        },
        "cb59a309133c4a80ab2114507accba6f": {
          "model_module": "@jupyter-widgets/base",
          "model_module_version": "1.2.0",
          "model_name": "LayoutModel",
          "state": {
            "_model_module": "@jupyter-widgets/base",
            "_model_module_version": "1.2.0",
            "_model_name": "LayoutModel",
            "_view_count": null,
            "_view_module": "@jupyter-widgets/base",
            "_view_module_version": "1.2.0",
            "_view_name": "LayoutView",
            "align_content": null,
            "align_items": null,
            "align_self": null,
            "border": null,
            "bottom": null,
            "display": null,
            "flex": null,
            "flex_flow": null,
            "grid_area": null,
            "grid_auto_columns": null,
            "grid_auto_flow": null,
            "grid_auto_rows": null,
            "grid_column": null,
            "grid_gap": null,
            "grid_row": null,
            "grid_template_areas": null,
            "grid_template_columns": null,
            "grid_template_rows": null,
            "height": null,
            "justify_content": null,
            "justify_items": null,
            "left": null,
            "margin": null,
            "max_height": null,
            "max_width": null,
            "min_height": null,
            "min_width": null,
            "object_fit": null,
            "object_position": null,
            "order": null,
            "overflow": null,
            "overflow_x": null,
            "overflow_y": null,
            "padding": null,
            "right": null,
            "top": null,
            "visibility": null,
            "width": null
          }
        },
        "ce85310d55f74bd383796359136eac3c": {
          "model_module": "@jupyter-widgets/base",
          "model_module_version": "1.2.0",
          "model_name": "LayoutModel",
          "state": {
            "_model_module": "@jupyter-widgets/base",
            "_model_module_version": "1.2.0",
            "_model_name": "LayoutModel",
            "_view_count": null,
            "_view_module": "@jupyter-widgets/base",
            "_view_module_version": "1.2.0",
            "_view_name": "LayoutView",
            "align_content": null,
            "align_items": null,
            "align_self": null,
            "border": null,
            "bottom": null,
            "display": null,
            "flex": null,
            "flex_flow": null,
            "grid_area": null,
            "grid_auto_columns": null,
            "grid_auto_flow": null,
            "grid_auto_rows": null,
            "grid_column": null,
            "grid_gap": null,
            "grid_row": null,
            "grid_template_areas": null,
            "grid_template_columns": null,
            "grid_template_rows": null,
            "height": null,
            "justify_content": null,
            "justify_items": null,
            "left": null,
            "margin": null,
            "max_height": null,
            "max_width": null,
            "min_height": null,
            "min_width": null,
            "object_fit": null,
            "object_position": null,
            "order": null,
            "overflow": null,
            "overflow_x": null,
            "overflow_y": null,
            "padding": null,
            "right": null,
            "top": null,
            "visibility": null,
            "width": null
          }
        },
        "d578ebf5187749a4bbbee53e1926fe94": {
          "model_module": "@jupyter-widgets/controls",
          "model_module_version": "1.5.0",
          "model_name": "DescriptionStyleModel",
          "state": {
            "_model_module": "@jupyter-widgets/controls",
            "_model_module_version": "1.5.0",
            "_model_name": "DescriptionStyleModel",
            "_view_count": null,
            "_view_module": "@jupyter-widgets/base",
            "_view_module_version": "1.2.0",
            "_view_name": "StyleView",
            "description_width": ""
          }
        },
        "d680a7ee96f74a2a851799e1e6308f0e": {
          "model_module": "@jupyter-widgets/base",
          "model_module_version": "1.2.0",
          "model_name": "LayoutModel",
          "state": {
            "_model_module": "@jupyter-widgets/base",
            "_model_module_version": "1.2.0",
            "_model_name": "LayoutModel",
            "_view_count": null,
            "_view_module": "@jupyter-widgets/base",
            "_view_module_version": "1.2.0",
            "_view_name": "LayoutView",
            "align_content": null,
            "align_items": null,
            "align_self": null,
            "border": null,
            "bottom": null,
            "display": null,
            "flex": null,
            "flex_flow": null,
            "grid_area": null,
            "grid_auto_columns": null,
            "grid_auto_flow": null,
            "grid_auto_rows": null,
            "grid_column": null,
            "grid_gap": null,
            "grid_row": null,
            "grid_template_areas": null,
            "grid_template_columns": null,
            "grid_template_rows": null,
            "height": null,
            "justify_content": null,
            "justify_items": null,
            "left": null,
            "margin": null,
            "max_height": null,
            "max_width": null,
            "min_height": null,
            "min_width": null,
            "object_fit": null,
            "object_position": null,
            "order": null,
            "overflow": null,
            "overflow_x": null,
            "overflow_y": null,
            "padding": null,
            "right": null,
            "top": null,
            "visibility": "hidden",
            "width": null
          }
        },
        "e43c8185bf6f4c22ae7308f3cf712848": {
          "model_module": "@jupyter-widgets/base",
          "model_module_version": "1.2.0",
          "model_name": "LayoutModel",
          "state": {
            "_model_module": "@jupyter-widgets/base",
            "_model_module_version": "1.2.0",
            "_model_name": "LayoutModel",
            "_view_count": null,
            "_view_module": "@jupyter-widgets/base",
            "_view_module_version": "1.2.0",
            "_view_name": "LayoutView",
            "align_content": null,
            "align_items": null,
            "align_self": null,
            "border": null,
            "bottom": null,
            "display": null,
            "flex": null,
            "flex_flow": null,
            "grid_area": null,
            "grid_auto_columns": null,
            "grid_auto_flow": null,
            "grid_auto_rows": null,
            "grid_column": null,
            "grid_gap": null,
            "grid_row": null,
            "grid_template_areas": null,
            "grid_template_columns": null,
            "grid_template_rows": null,
            "height": null,
            "justify_content": null,
            "justify_items": null,
            "left": null,
            "margin": null,
            "max_height": null,
            "max_width": null,
            "min_height": null,
            "min_width": null,
            "object_fit": null,
            "object_position": null,
            "order": null,
            "overflow": null,
            "overflow_x": null,
            "overflow_y": null,
            "padding": null,
            "right": null,
            "top": null,
            "visibility": null,
            "width": null
          }
        },
        "f6f7b4a45d79452695661137915abe6c": {
          "model_module": "@jupyter-widgets/controls",
          "model_module_version": "1.5.0",
          "model_name": "HTMLModel",
          "state": {
            "_dom_classes": [],
            "_model_module": "@jupyter-widgets/controls",
            "_model_module_version": "1.5.0",
            "_model_name": "HTMLModel",
            "_view_count": null,
            "_view_module": "@jupyter-widgets/controls",
            "_view_module_version": "1.5.0",
            "_view_name": "HTMLView",
            "description": "",
            "description_tooltip": null,
            "layout": "IPY_MODEL_369a71cd17da42eb9c5e24d93c18583e",
            "placeholder": "​",
            "style": "IPY_MODEL_20c2ee5f514546abb4cec245bf90e3cd",
            "value": " 81/81 [01:44&lt;00:00,  1.41it/s]"
          }
        },
        "fe5d1c6d0c894ff1a056f1e512209cb2": {
          "model_module": "@jupyter-widgets/controls",
          "model_module_version": "1.5.0",
          "model_name": "ProgressStyleModel",
          "state": {
            "_model_module": "@jupyter-widgets/controls",
            "_model_module_version": "1.5.0",
            "_model_name": "ProgressStyleModel",
            "_view_count": null,
            "_view_module": "@jupyter-widgets/base",
            "_view_module_version": "1.2.0",
            "_view_name": "StyleView",
            "bar_color": null,
            "description_width": ""
          }
        }
      }
    }
  },
  "nbformat": 4,
  "nbformat_minor": 0
}
